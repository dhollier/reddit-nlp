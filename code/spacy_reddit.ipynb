{
 "cells": [
  {
   "cell_type": "code",
   "execution_count": 1,
   "metadata": {},
   "outputs": [],
   "source": [
    "import spacy\n",
    "import pandas as pd \n",
    "\n",
    "\n",
    "#load spacy english medium model\n",
    "nlp = spacy.load(\"en_core_web_md\")\n",
    "pd.set_option('display.max_columns', None)"
   ]
  },
  {
   "cell_type": "code",
   "execution_count": 2,
   "metadata": {},
   "outputs": [],
   "source": [
    " def get_ents(doc,id):\n",
    "    # ents_list] =[]\n",
    "    ents_df = pd.DataFrame()\n",
    "    for ent in doc.ents:\n",
    "        this_ent = pd.DataFrame({'text' : [ent.text], 'label' : [ent.label_], 'comment_id': [id]})\n",
    "        # ents_list.append(this_ent)\n",
    "        ents_df = ents_df.append(this_ent)\n",
    "    return ents_df\n"
   ]
  },
  {
   "cell_type": "code",
   "execution_count": 3,
   "metadata": {},
   "outputs": [],
   "source": [
    "\n",
    "\n",
    "def parse_comments(df):\n",
    "    #create doc object\n",
    "    all_ents = pd.DataFrame()\n",
    "    for index,row in df.iterrows():\n",
    "        doc = nlp(row['body'])\n",
    "        comment_id = row['id']\n",
    "        #get ents\n",
    "        ents = get_ents(doc,comment_id)\n",
    "        #add ids to df\n",
    "        ents['post_id'] = row['submission_id']\n",
    "        ents['subreddit']= row['subreddit']\n",
    "        if  ents.empty ==False:\n",
    "            all_ents = all_ents.append(ents)\n",
    "    return all_ents"
   ]
  },
  {
   "cell_type": "code",
   "execution_count": 4,
   "metadata": {},
   "outputs": [],
   "source": [
    "def parse_post_titles(df):\n",
    "    #create doc object\n",
    "    all_ents = pd.DataFrame()\n",
    "    for index,row in df.iterrows():\n",
    "        doc = nlp(row['title'])\n",
    "        post_id = row['id']\n",
    "        #get ents\n",
    "        ents = get_ents(doc,post_id).rename(columns={'comment_id':'post_id'})\n",
    "        #add ids to df\n",
    "        ents['comment_id']= ''\n",
    "        ents['subreddit']= row['subreddit']\n",
    "        if  ents.empty ==False:\n",
    "            all_ents = all_ents.append(ents)\n",
    "    return all_ents"
   ]
  },
  {
   "cell_type": "code",
   "execution_count": 5,
   "metadata": {},
   "outputs": [],
   "source": [
    "#read csvs\n",
    "\n",
    "commentDF = pd.read_csv('../output/commentDF.csv')  \n",
    "\n",
    "postsDF = pd.read_csv('../output/postsDF.csv')  \n",
    "\n"
   ]
  },
  {
   "cell_type": "code",
   "execution_count": 6,
   "metadata": {},
   "outputs": [
    {
     "output_type": "execute_result",
     "data": {
      "text/plain": "   Unnamed: 0      id                                              title  \\\n0           0  ftfwrt  Train to Busan Presents: Peninsula - 4 years a...   \n\n           created_utc  score subreddit  \\\n0  2020-04-02 04:31:09    166  trailers   \n\n                                           url  num_comments  selftext  \\\n0  https://www.youtube.com/watch?v=yVucSRLLeIM            11       NaN   \n\n   stickied  spoiler  subreddit_subscribers subreddit_type subreddit_id  \\\n0     False    False                  70132         public     t5_2qog5   \n\n  subreddit.1  total_awards_received  ups  downs  upvote_ratio  view_count  \\\n0    trailers                      0  166      0          0.99         NaN   \n\n   quarantine  removal_reason  removed_by_category  report_reasons  pinned  \\\n0       False             NaN                  NaN             NaN   False   \n\n                                           permalink  over_18  num_reports  \\\n0  /r/trailers/comments/ftfwrt/train_to_busan_pre...    False          NaN   \n\n   num_duplicates  num_crossposts  num_comments.1  no_follow  \\\n0              10               0              11      False   \n\n                                               media  \\\n0  {'type': 'youtube.com', 'oembed': {'provider_u...   \n\n                                         media_embed  media_only  is_video  \\\n0  {'content': '<iframe width=\"600\" height=\"338\" ...       False     False   \n\n   is_original_content  gilded  edited  category  banned_at_utc  archived  \n0                False       0   False       NaN            NaN     False  ",
      "text/html": "<div>\n<style scoped>\n    .dataframe tbody tr th:only-of-type {\n        vertical-align: middle;\n    }\n\n    .dataframe tbody tr th {\n        vertical-align: top;\n    }\n\n    .dataframe thead th {\n        text-align: right;\n    }\n</style>\n<table border=\"1\" class=\"dataframe\">\n  <thead>\n    <tr style=\"text-align: right;\">\n      <th></th>\n      <th>Unnamed: 0</th>\n      <th>id</th>\n      <th>title</th>\n      <th>created_utc</th>\n      <th>score</th>\n      <th>subreddit</th>\n      <th>url</th>\n      <th>num_comments</th>\n      <th>selftext</th>\n      <th>stickied</th>\n      <th>spoiler</th>\n      <th>subreddit_subscribers</th>\n      <th>subreddit_type</th>\n      <th>subreddit_id</th>\n      <th>subreddit.1</th>\n      <th>total_awards_received</th>\n      <th>ups</th>\n      <th>downs</th>\n      <th>upvote_ratio</th>\n      <th>view_count</th>\n      <th>quarantine</th>\n      <th>removal_reason</th>\n      <th>removed_by_category</th>\n      <th>report_reasons</th>\n      <th>pinned</th>\n      <th>permalink</th>\n      <th>over_18</th>\n      <th>num_reports</th>\n      <th>num_duplicates</th>\n      <th>num_crossposts</th>\n      <th>num_comments.1</th>\n      <th>no_follow</th>\n      <th>media</th>\n      <th>media_embed</th>\n      <th>media_only</th>\n      <th>is_video</th>\n      <th>is_original_content</th>\n      <th>gilded</th>\n      <th>edited</th>\n      <th>category</th>\n      <th>banned_at_utc</th>\n      <th>archived</th>\n    </tr>\n  </thead>\n  <tbody>\n    <tr>\n      <th>0</th>\n      <td>0</td>\n      <td>ftfwrt</td>\n      <td>Train to Busan Presents: Peninsula - 4 years a...</td>\n      <td>2020-04-02 04:31:09</td>\n      <td>166</td>\n      <td>trailers</td>\n      <td>https://www.youtube.com/watch?v=yVucSRLLeIM</td>\n      <td>11</td>\n      <td>NaN</td>\n      <td>False</td>\n      <td>False</td>\n      <td>70132</td>\n      <td>public</td>\n      <td>t5_2qog5</td>\n      <td>trailers</td>\n      <td>0</td>\n      <td>166</td>\n      <td>0</td>\n      <td>0.99</td>\n      <td>NaN</td>\n      <td>False</td>\n      <td>NaN</td>\n      <td>NaN</td>\n      <td>NaN</td>\n      <td>False</td>\n      <td>/r/trailers/comments/ftfwrt/train_to_busan_pre...</td>\n      <td>False</td>\n      <td>NaN</td>\n      <td>10</td>\n      <td>0</td>\n      <td>11</td>\n      <td>False</td>\n      <td>{'type': 'youtube.com', 'oembed': {'provider_u...</td>\n      <td>{'content': '&lt;iframe width=\"600\" height=\"338\" ...</td>\n      <td>False</td>\n      <td>False</td>\n      <td>False</td>\n      <td>0</td>\n      <td>False</td>\n      <td>NaN</td>\n      <td>NaN</td>\n      <td>False</td>\n    </tr>\n  </tbody>\n</table>\n</div>"
     },
     "metadata": {},
     "execution_count": 6
    }
   ],
   "source": [
    "thisPost = postsDF.iloc[[0]]\n",
    "\n",
    "thisPost"
   ]
  },
  {
   "cell_type": "code",
   "execution_count": 7,
   "metadata": {},
   "outputs": [],
   "source": [
    "\n",
    "postCommentsDF = commentDF[commentDF[\"submission_id\"] == thisPost['id'].values[0]]\n",
    "\n"
   ]
  },
  {
   "cell_type": "code",
   "execution_count": 8,
   "metadata": {},
   "outputs": [
    {
     "output_type": "execute_result",
     "data": {
      "text/plain": "          text     label post_id comment_id subreddit\n0  South Korea       GPE  ftfwrt             trailers\n0    Jung-seok    PERSON  ftfwrt             trailers\n0          two  CARDINAL  ftfwrt             trailers",
      "text/html": "<div>\n<style scoped>\n    .dataframe tbody tr th:only-of-type {\n        vertical-align: middle;\n    }\n\n    .dataframe tbody tr th {\n        vertical-align: top;\n    }\n\n    .dataframe thead th {\n        text-align: right;\n    }\n</style>\n<table border=\"1\" class=\"dataframe\">\n  <thead>\n    <tr style=\"text-align: right;\">\n      <th></th>\n      <th>text</th>\n      <th>label</th>\n      <th>post_id</th>\n      <th>comment_id</th>\n      <th>subreddit</th>\n    </tr>\n  </thead>\n  <tbody>\n    <tr>\n      <th>0</th>\n      <td>South Korea</td>\n      <td>GPE</td>\n      <td>ftfwrt</td>\n      <td></td>\n      <td>trailers</td>\n    </tr>\n    <tr>\n      <th>0</th>\n      <td>Jung-seok</td>\n      <td>PERSON</td>\n      <td>ftfwrt</td>\n      <td></td>\n      <td>trailers</td>\n    </tr>\n    <tr>\n      <th>0</th>\n      <td>two</td>\n      <td>CARDINAL</td>\n      <td>ftfwrt</td>\n      <td></td>\n      <td>trailers</td>\n    </tr>\n  </tbody>\n</table>\n</div>"
     },
     "metadata": {},
     "execution_count": 8
    }
   ],
   "source": [
    "parse_post_titles(thisPost)"
   ]
  },
  {
   "cell_type": "code",
   "execution_count": 9,
   "metadata": {},
   "outputs": [
    {
     "output_type": "execute_result",
     "data": {
      "text/plain": "'Train to Busan Presents: Peninsula - 4 years after South Korea’s total decimation in Train to Busan, Jung-seok, a soldier who previously escaped the diseased wasteland, relives the horror when assigned to a covert operation with two simple objectives: retrieve and survive.'"
     },
     "metadata": {},
     "execution_count": 9
    }
   ],
   "source": [
    "thisPost['title'][0]"
   ]
  },
  {
   "cell_type": "code",
   "execution_count": 10,
   "metadata": {
    "tags": [
     "outputPrepend"
    ]
   },
   "outputs": [],
   "source": [
    "test  = parse_comments(postCommentsDF)"
   ]
  },
  {
   "cell_type": "code",
   "execution_count": 11,
   "metadata": {},
   "outputs": [
    {
     "output_type": "execute_result",
     "data": {
      "text/plain": "      text    label comment_id post_id subreddit\n0  the 1st     DATE    fm8a9yb  ftfwrt  trailers\n0      L.A      GPE    fm92ox4  ftfwrt  trailers\n0      Max   PERSON    fm92ox4  ftfwrt  trailers\n0    busan      GPE    fm6x79r  ftfwrt  trailers\n0    Busan      GPE    fm9snvi  ftfwrt  trailers\n0   Korean     NORP    fm9snvi  ftfwrt  trailers\n0  Netflix  PRODUCT    fm9snvi  ftfwrt  trailers\n0    Busan      GPE    fm7jqrm  ftfwrt  trailers\n0   Aliens   PERSON    fm7jqrm  ftfwrt  trailers",
      "text/html": "<div>\n<style scoped>\n    .dataframe tbody tr th:only-of-type {\n        vertical-align: middle;\n    }\n\n    .dataframe tbody tr th {\n        vertical-align: top;\n    }\n\n    .dataframe thead th {\n        text-align: right;\n    }\n</style>\n<table border=\"1\" class=\"dataframe\">\n  <thead>\n    <tr style=\"text-align: right;\">\n      <th></th>\n      <th>text</th>\n      <th>label</th>\n      <th>comment_id</th>\n      <th>post_id</th>\n      <th>subreddit</th>\n    </tr>\n  </thead>\n  <tbody>\n    <tr>\n      <th>0</th>\n      <td>the 1st</td>\n      <td>DATE</td>\n      <td>fm8a9yb</td>\n      <td>ftfwrt</td>\n      <td>trailers</td>\n    </tr>\n    <tr>\n      <th>0</th>\n      <td>L.A</td>\n      <td>GPE</td>\n      <td>fm92ox4</td>\n      <td>ftfwrt</td>\n      <td>trailers</td>\n    </tr>\n    <tr>\n      <th>0</th>\n      <td>Max</td>\n      <td>PERSON</td>\n      <td>fm92ox4</td>\n      <td>ftfwrt</td>\n      <td>trailers</td>\n    </tr>\n    <tr>\n      <th>0</th>\n      <td>busan</td>\n      <td>GPE</td>\n      <td>fm6x79r</td>\n      <td>ftfwrt</td>\n      <td>trailers</td>\n    </tr>\n    <tr>\n      <th>0</th>\n      <td>Busan</td>\n      <td>GPE</td>\n      <td>fm9snvi</td>\n      <td>ftfwrt</td>\n      <td>trailers</td>\n    </tr>\n    <tr>\n      <th>0</th>\n      <td>Korean</td>\n      <td>NORP</td>\n      <td>fm9snvi</td>\n      <td>ftfwrt</td>\n      <td>trailers</td>\n    </tr>\n    <tr>\n      <th>0</th>\n      <td>Netflix</td>\n      <td>PRODUCT</td>\n      <td>fm9snvi</td>\n      <td>ftfwrt</td>\n      <td>trailers</td>\n    </tr>\n    <tr>\n      <th>0</th>\n      <td>Busan</td>\n      <td>GPE</td>\n      <td>fm7jqrm</td>\n      <td>ftfwrt</td>\n      <td>trailers</td>\n    </tr>\n    <tr>\n      <th>0</th>\n      <td>Aliens</td>\n      <td>PERSON</td>\n      <td>fm7jqrm</td>\n      <td>ftfwrt</td>\n      <td>trailers</td>\n    </tr>\n  </tbody>\n</table>\n</div>"
     },
     "metadata": {},
     "execution_count": 11
    }
   ],
   "source": [
    "test.head(100)"
   ]
  },
  {
   "cell_type": "code",
   "execution_count": 12,
   "metadata": {},
   "outputs": [
    {
     "output_type": "execute_result",
     "data": {
      "text/plain": "['Train to Busan Presents: Peninsula - 4 years after South Korea’s total decimation in Train to Busan, Jung-seok, a soldier who previously escaped the diseased wasteland, relives the horror when assigned to a covert operation with two simple objectives: retrieve and survive.']"
     },
     "metadata": {},
     "execution_count": 12
    }
   ],
   "source": [
    "list(thisPost['title'])"
   ]
  },
  {
   "cell_type": "code",
   "execution_count": 13,
   "metadata": {},
   "outputs": [
    {
     "output_type": "execute_result",
     "data": {
      "text/plain": "['I have to admit, it is missing that confined, very personal feel that Train to Busan had. Then again, it could be the Aliens to what Alien was. We will just have to see if they expanded the world while properly executing a good story.']"
     },
     "metadata": {},
     "execution_count": 13
    }
   ],
   "source": [
    "list(postCommentsDF[postCommentsDF['id']=='fm7jqrm']['body'])"
   ]
  },
  {
   "cell_type": "code",
   "execution_count": null,
   "metadata": {},
   "outputs": [],
   "source": []
  },
  {
   "cell_type": "code",
   "execution_count": 14,
   "metadata": {},
   "outputs": [],
   "source": [
    "#sentiment analysis \n",
    "#vader vs other:\n",
    "# https://towardsdatascience.com/sentiment-analysis-beyond-words-6ca17a6c1b54\n",
    "\n",
    "#spacy + vader \n",
    "# https://nlpforhackers.io/complete-guide-to-spacy/"
   ]
  },
  {
   "cell_type": "code",
   "execution_count": 15,
   "metadata": {},
   "outputs": [
    {
     "output_type": "stream",
     "name": "stderr",
     "text": "[nltk_data] Downloading package vader_lexicon to\n[nltk_data]     /Users/devinsmacbookpro/nltk_data...\n[nltk_data]   Package vader_lexicon is already up-to-date!\n"
    }
   ],
   "source": [
    "import spacy\n",
    "from spacy.tokens import Doc\n",
    "import nltk\n",
    "from nltk.sentiment.vader import SentimentIntensityAnalyzer\n",
    "# nltk.download('vader_lexicon')\n",
    "\n",
    "sentiment_analyzer = SentimentIntensityAnalyzer()\n",
    "\n",
    "def polarity_scores(doc):\n",
    "    return sentiment_analyzer.polarity_scores(doc.text)\n",
    "\n",
    "Doc.set_extension('polarity_scores', getter=polarity_scores)\n",
    "\n",
    "\n",
    "\n",
    "\n"
   ]
  },
  {
   "cell_type": "code",
   "execution_count": 52,
   "metadata": {},
   "outputs": [
    {
     "output_type": "execute_result",
     "data": {
      "text/plain": "'I have to admit, it is missing that confined, very personal feel that Train to Busan had. Then again, it could be the Aliens to what Alien was. We will just have to see if they expanded the world while properly executing a good story.'"
     },
     "metadata": {},
     "execution_count": 52
    }
   ],
   "source": [
    "text = postCommentsDF['body'][10]\n",
    "# list(postCommentsDF[postCommentsDF['id']=='fm7jqrm']['body'])\n",
    "text\n",
    "\n"
   ]
  },
  {
   "cell_type": "code",
   "execution_count": 50,
   "metadata": {},
   "outputs": [
    {
     "output_type": "execute_result",
     "data": {
      "text/plain": "{'neg': 0.047, 'neu': 0.853, 'pos': 0.1, 'compound': 0.3612}"
     },
     "metadata": {},
     "execution_count": 50
    }
   ],
   "source": [
    "sentiment_analyzer.polarity_scores(text)\n"
   ]
  },
  {
   "cell_type": "code",
   "execution_count": null,
   "metadata": {},
   "outputs": [],
   "source": [
    "# not tagging sentiment very well, will try stanford model in the link below\n",
    "# https://towardsdatascience.com/sentiment-analysis-beyond-words-6ca17a6c1b54"
   ]
  },
  {
   "cell_type": "code",
   "execution_count": null,
   "metadata": {},
   "outputs": [],
   "source": []
  }
 ],
 "metadata": {
  "language_info": {
   "codemirror_mode": {
    "name": "ipython",
    "version": 3
   },
   "file_extension": ".py",
   "mimetype": "text/x-python",
   "name": "python",
   "nbconvert_exporter": "python",
   "pygments_lexer": "ipython3",
   "version": "3.7.6-final"
  },
  "orig_nbformat": 2,
  "kernelspec": {
   "name": "python37664bitvenvvenv47b65cf57d4d48c1aee271492c637f7a",
   "display_name": "Python 3.7.6 64-bit ('venv': venv)"
  }
 },
 "nbformat": 4,
 "nbformat_minor": 2
}