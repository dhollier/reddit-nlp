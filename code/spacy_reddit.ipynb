{
 "cells": [
  {
   "cell_type": "code",
   "execution_count": 1,
   "metadata": {},
   "outputs": [],
   "source": [
    "import spacy\n",
    "# import sentiment analysis \n",
    "import nltk\n",
    "from nltk.sentiment.vader import SentimentIntensityAnalyzer\n",
    "import pandas as pd \n",
    "\n",
    "#load vader sentiment\n",
    "\n",
    "# nltk.download('vader_lexicon') #download if not installed\n",
    "sentiment_analyzer = SentimentIntensityAnalyzer()\n",
    "\n",
    "pd.set_option('display.max_columns', None)\n"
   ]
  },
  {
   "cell_type": "code",
   "execution_count": 34,
   "metadata": {},
   "outputs": [],
   "source": [
    " #gets entities\n",
    " def get_ents(doc,id):\n",
    "    # ents_list] =[]\n",
    "    ents_df = pd.DataFrame()\n",
    "    for ent in doc.ents:\n",
    "        this_ent = pd.DataFrame({'text' : [ent.text], 'label' : [ent.label_], 'comment_id': [id]})\n",
    "        # ents_list.append(this_ent)\n",
    "        ents_df = ents_df.append(this_ent)\n",
    "    return ents_df\n"
   ]
  },
  {
   "cell_type": "code",
   "execution_count": 50,
   "metadata": {},
   "outputs": [],
   "source": [
    "\n",
    "# gets entities for comments\n",
    "def parse_comments(df):\n",
    "    #create doc object\n",
    "    all_ents = pd.DataFrame()\n",
    "    for index,row in df.iterrows():\n",
    "        doc = nlp(row['body'])\n",
    "        comment_id = row['id']\n",
    "        #get ents\n",
    "        ents = get_ents(doc,comment_id)\n",
    "        #add ids to df\n",
    "        ents['post_id'] = row['submission_id']\n",
    "        ents['subreddit']= row['subreddit']\n",
    "        ents['is_post'] = False\n",
    "\n",
    "        if  ents.empty ==False:\n",
    "            all_ents = all_ents.append(ents)\n",
    "    return all_ents"
   ]
  },
  {
   "cell_type": "code",
   "execution_count": 51,
   "metadata": {},
   "outputs": [],
   "source": [
    "#gets entities for post titles\n",
    "def parse_post_titles(df):\n",
    "    #create doc object\n",
    "    all_ents = pd.DataFrame()\n",
    "    for index,row in df.iterrows():\n",
    "        doc = nlp(row['title'])\n",
    "        post_id = row['id']\n",
    "        #get ents\n",
    "        ents = get_ents(doc,post_id).rename(columns={'comment_id':'post_id'})\n",
    "        #add ids to df\n",
    "        ents['comment_id']= ''\n",
    "        ents['subreddit']= row['subreddit']\n",
    "        ents['is_post'] = True\n",
    "\n",
    "        if  ents.empty ==False:\n",
    "            all_ents = all_ents.append(ents)\n",
    "    return all_ents"
   ]
  },
  {
   "cell_type": "code",
   "execution_count": 52,
   "metadata": {},
   "outputs": [],
   "source": [
    "def parse_sentiment(df,type):\n",
    "    #create doc object\n",
    "    output = pd.DataFrame()\n",
    "\n",
    "    for index,row in df.iterrows():\n",
    "        #add ids to df\n",
    "        if type == 'post':\n",
    "            post_id = row['id']\n",
    "            comment_id = ''\n",
    "            doc = nlp(row['title'])\n",
    "            is_post = True\n",
    "        if type == 'comment':\n",
    "            post_id = row['submission_id']\n",
    "            comment_id = row['id']\n",
    "            doc = nlp(row['body'])\n",
    "            is_post = False\n",
    "        \n",
    "        this_output = pd.DataFrame(doc._.sentiment_score,index=[0])\n",
    "        this_output['post_id'] = post_id\n",
    "        this_output['comment_id'] = comment_id\n",
    "        this_output['subreddit'] = row['subreddit']\n",
    "        this_output['is_post'] = is_post\n",
    "\n",
    "\n",
    "        if  this_output.empty == False:\n",
    "            output = output.append(this_output)\n",
    "    \n",
    "    output.reset_index()\n",
    "    return output\n",
    "\n"
   ]
  },
  {
   "cell_type": "code",
   "execution_count": 38,
   "metadata": {},
   "outputs": [],
   "source": [
    "#define sentiment score for nlp pipeline\n",
    "def sentiment_score(doc):\n",
    "    def get_sentiment(doc):\n",
    "        return sentiment_analyzer.polarity_scores(doc.text)\n",
    "\n",
    "    spacy.tokens.Doc.set_extension('sentiment_score', getter=get_sentiment,force=True)\n",
    "    return doc \n"
   ]
  },
  {
   "cell_type": "code",
   "execution_count": 39,
   "metadata": {},
   "outputs": [],
   "source": [
    "\n",
    "#load spacy english medium model\n",
    "nlp = spacy.load(\"en_core_web_md\")\n",
    "nlp.add_pipe(nlp.create_pipe(\"merge_entities\")) #merges entities so james brown = \"james brown\" and not \"james\" \"brown\"\n",
    "nlp.add_pipe(sentiment_score, name=\"sentiment_score\", last=True)"
   ]
  },
  {
   "cell_type": "code",
   "execution_count": 40,
   "metadata": {},
   "outputs": [],
   "source": [
    "#read csvs\n",
    "\n",
    "commentDF = pd.read_csv('../output/commentDF.csv')  \n",
    "\n",
    "postsDF = pd.read_csv('../output/postsDF.csv')  \n",
    "\n"
   ]
  },
  {
   "cell_type": "code",
   "execution_count": 68,
   "metadata": {},
   "outputs": [
    {
     "output_type": "execute_result",
     "data": {
      "text/plain": "   Unnamed: 0      id                                              title  \\\n1           1  fww19w  Extraction | Official Trailer | Netflix - Chri...   \n\n           created_utc  score subreddit  \\\n1  2020-04-08 00:18:50    151  trailers   \n\n                                                 url  num_comments  selftext  \\\n1  https://www.youtube.com/watch?time_continue=17...            21       NaN   \n\n   stickied  spoiler  subreddit_subscribers subreddit_type subreddit_id  \\\n1     False    False                  70132         public     t5_2qog5   \n\n  subreddit.1  total_awards_received  ups  downs  upvote_ratio  view_count  \\\n1    trailers                      0  151      0          0.96         NaN   \n\n   quarantine  removal_reason  removed_by_category  report_reasons  pinned  \\\n1       False             NaN                  NaN             NaN   False   \n\n                                           permalink  over_18  num_reports  \\\n1  /r/trailers/comments/fww19w/extraction_officia...    False          NaN   \n\n   num_duplicates  num_crossposts  num_comments.1  no_follow  \\\n1               0               0              21      False   \n\n                                               media  \\\n1  {'oembed': {'provider_url': 'https://www.youtu...   \n\n                                         media_embed  media_only  is_video  \\\n1  {'content': '<iframe width=\"600\" height=\"338\" ...       False     False   \n\n   is_original_content  gilded  edited  category  banned_at_utc  archived  \n1                False       0   False       NaN            NaN     False  ",
      "text/html": "<div>\n<style scoped>\n    .dataframe tbody tr th:only-of-type {\n        vertical-align: middle;\n    }\n\n    .dataframe tbody tr th {\n        vertical-align: top;\n    }\n\n    .dataframe thead th {\n        text-align: right;\n    }\n</style>\n<table border=\"1\" class=\"dataframe\">\n  <thead>\n    <tr style=\"text-align: right;\">\n      <th></th>\n      <th>Unnamed: 0</th>\n      <th>id</th>\n      <th>title</th>\n      <th>created_utc</th>\n      <th>score</th>\n      <th>subreddit</th>\n      <th>url</th>\n      <th>num_comments</th>\n      <th>selftext</th>\n      <th>stickied</th>\n      <th>spoiler</th>\n      <th>subreddit_subscribers</th>\n      <th>subreddit_type</th>\n      <th>subreddit_id</th>\n      <th>subreddit.1</th>\n      <th>total_awards_received</th>\n      <th>ups</th>\n      <th>downs</th>\n      <th>upvote_ratio</th>\n      <th>view_count</th>\n      <th>quarantine</th>\n      <th>removal_reason</th>\n      <th>removed_by_category</th>\n      <th>report_reasons</th>\n      <th>pinned</th>\n      <th>permalink</th>\n      <th>over_18</th>\n      <th>num_reports</th>\n      <th>num_duplicates</th>\n      <th>num_crossposts</th>\n      <th>num_comments.1</th>\n      <th>no_follow</th>\n      <th>media</th>\n      <th>media_embed</th>\n      <th>media_only</th>\n      <th>is_video</th>\n      <th>is_original_content</th>\n      <th>gilded</th>\n      <th>edited</th>\n      <th>category</th>\n      <th>banned_at_utc</th>\n      <th>archived</th>\n    </tr>\n  </thead>\n  <tbody>\n    <tr>\n      <th>1</th>\n      <td>1</td>\n      <td>fww19w</td>\n      <td>Extraction | Official Trailer | Netflix - Chri...</td>\n      <td>2020-04-08 00:18:50</td>\n      <td>151</td>\n      <td>trailers</td>\n      <td>https://www.youtube.com/watch?time_continue=17...</td>\n      <td>21</td>\n      <td>NaN</td>\n      <td>False</td>\n      <td>False</td>\n      <td>70132</td>\n      <td>public</td>\n      <td>t5_2qog5</td>\n      <td>trailers</td>\n      <td>0</td>\n      <td>151</td>\n      <td>0</td>\n      <td>0.96</td>\n      <td>NaN</td>\n      <td>False</td>\n      <td>NaN</td>\n      <td>NaN</td>\n      <td>NaN</td>\n      <td>False</td>\n      <td>/r/trailers/comments/fww19w/extraction_officia...</td>\n      <td>False</td>\n      <td>NaN</td>\n      <td>0</td>\n      <td>0</td>\n      <td>21</td>\n      <td>False</td>\n      <td>{'oembed': {'provider_url': 'https://www.youtu...</td>\n      <td>{'content': '&lt;iframe width=\"600\" height=\"338\" ...</td>\n      <td>False</td>\n      <td>False</td>\n      <td>False</td>\n      <td>0</td>\n      <td>False</td>\n      <td>NaN</td>\n      <td>NaN</td>\n      <td>False</td>\n    </tr>\n  </tbody>\n</table>\n</div>"
     },
     "metadata": {},
     "execution_count": 68
    }
   ],
   "source": [
    "thisPost = postsDF.iloc[[1]]\n",
    "\n",
    "thisPost"
   ]
  },
  {
   "cell_type": "code",
   "execution_count": 69,
   "metadata": {},
   "outputs": [],
   "source": [
    "\n",
    "postCommentsDF = commentDF[commentDF[\"submission_id\"] == thisPost['id'].values[0]]\n",
    "\n"
   ]
  },
  {
   "cell_type": "code",
   "execution_count": 70,
   "metadata": {},
   "outputs": [
    {
     "output_type": "execute_result",
     "data": {
      "text/plain": "                     text     label comment_id post_id subreddit  is_post\n0                1 minute      TIME    fmqwx5o  fww19w  trailers    False\n0                 Netflix       ORG    fmqt2pp  fww19w  trailers    False\n0                   x200B     MONEY    fmqt2pp  fww19w  trailers    False\n0  the Ryan Reynolds Fast       ORG    fmqt2pp  fww19w  trailers    False\n0              60 seconds      TIME    fmqt2pp  fww19w  trailers    False\n0               Hemsworth    PERSON    fn5yys1  fww19w  trailers    False\n0                     One  CARDINAL    fn5yys1  fww19w  trailers    False\n0                   23-25      DATE    fn5yys1  fww19w  trailers    False\n0                     sec       ORG    fn5yys1  fww19w  trailers    False\n0                   three  CARDINAL    fn5yys1  fww19w  trailers    False\n0                    Thor    PERSON    fng06f3  fww19w  trailers    False\n0                   first   ORDINAL    fmradi9  fww19w  trailers    False\n0                 Netflix       ORG    fmtdui9  fww19w  trailers    False\n0                   Russo    PERSON    fmqx5pt  fww19w  trailers    False\n0                Hargrave    PERSON    fmqx5pt  fww19w  trailers    False\n0              soundtrack    PERSON    fmqx5pt  fww19w  trailers    False\n0                April 24      DATE    fmu0gdu  fww19w  trailers    False\n0              last night      TIME    fouxjb3  fww19w  trailers    False\n0                     one  CARDINAL    fmteibl  fww19w  trailers    False\n0                    Zero  CARDINAL    fmteibl  fww19w  trailers    False",
      "text/html": "<div>\n<style scoped>\n    .dataframe tbody tr th:only-of-type {\n        vertical-align: middle;\n    }\n\n    .dataframe tbody tr th {\n        vertical-align: top;\n    }\n\n    .dataframe thead th {\n        text-align: right;\n    }\n</style>\n<table border=\"1\" class=\"dataframe\">\n  <thead>\n    <tr style=\"text-align: right;\">\n      <th></th>\n      <th>text</th>\n      <th>label</th>\n      <th>comment_id</th>\n      <th>post_id</th>\n      <th>subreddit</th>\n      <th>is_post</th>\n    </tr>\n  </thead>\n  <tbody>\n    <tr>\n      <th>0</th>\n      <td>1 minute</td>\n      <td>TIME</td>\n      <td>fmqwx5o</td>\n      <td>fww19w</td>\n      <td>trailers</td>\n      <td>False</td>\n    </tr>\n    <tr>\n      <th>0</th>\n      <td>Netflix</td>\n      <td>ORG</td>\n      <td>fmqt2pp</td>\n      <td>fww19w</td>\n      <td>trailers</td>\n      <td>False</td>\n    </tr>\n    <tr>\n      <th>0</th>\n      <td>x200B</td>\n      <td>MONEY</td>\n      <td>fmqt2pp</td>\n      <td>fww19w</td>\n      <td>trailers</td>\n      <td>False</td>\n    </tr>\n    <tr>\n      <th>0</th>\n      <td>the Ryan Reynolds Fast</td>\n      <td>ORG</td>\n      <td>fmqt2pp</td>\n      <td>fww19w</td>\n      <td>trailers</td>\n      <td>False</td>\n    </tr>\n    <tr>\n      <th>0</th>\n      <td>60 seconds</td>\n      <td>TIME</td>\n      <td>fmqt2pp</td>\n      <td>fww19w</td>\n      <td>trailers</td>\n      <td>False</td>\n    </tr>\n    <tr>\n      <th>0</th>\n      <td>Hemsworth</td>\n      <td>PERSON</td>\n      <td>fn5yys1</td>\n      <td>fww19w</td>\n      <td>trailers</td>\n      <td>False</td>\n    </tr>\n    <tr>\n      <th>0</th>\n      <td>One</td>\n      <td>CARDINAL</td>\n      <td>fn5yys1</td>\n      <td>fww19w</td>\n      <td>trailers</td>\n      <td>False</td>\n    </tr>\n    <tr>\n      <th>0</th>\n      <td>23-25</td>\n      <td>DATE</td>\n      <td>fn5yys1</td>\n      <td>fww19w</td>\n      <td>trailers</td>\n      <td>False</td>\n    </tr>\n    <tr>\n      <th>0</th>\n      <td>sec</td>\n      <td>ORG</td>\n      <td>fn5yys1</td>\n      <td>fww19w</td>\n      <td>trailers</td>\n      <td>False</td>\n    </tr>\n    <tr>\n      <th>0</th>\n      <td>three</td>\n      <td>CARDINAL</td>\n      <td>fn5yys1</td>\n      <td>fww19w</td>\n      <td>trailers</td>\n      <td>False</td>\n    </tr>\n    <tr>\n      <th>0</th>\n      <td>Thor</td>\n      <td>PERSON</td>\n      <td>fng06f3</td>\n      <td>fww19w</td>\n      <td>trailers</td>\n      <td>False</td>\n    </tr>\n    <tr>\n      <th>0</th>\n      <td>first</td>\n      <td>ORDINAL</td>\n      <td>fmradi9</td>\n      <td>fww19w</td>\n      <td>trailers</td>\n      <td>False</td>\n    </tr>\n    <tr>\n      <th>0</th>\n      <td>Netflix</td>\n      <td>ORG</td>\n      <td>fmtdui9</td>\n      <td>fww19w</td>\n      <td>trailers</td>\n      <td>False</td>\n    </tr>\n    <tr>\n      <th>0</th>\n      <td>Russo</td>\n      <td>PERSON</td>\n      <td>fmqx5pt</td>\n      <td>fww19w</td>\n      <td>trailers</td>\n      <td>False</td>\n    </tr>\n    <tr>\n      <th>0</th>\n      <td>Hargrave</td>\n      <td>PERSON</td>\n      <td>fmqx5pt</td>\n      <td>fww19w</td>\n      <td>trailers</td>\n      <td>False</td>\n    </tr>\n    <tr>\n      <th>0</th>\n      <td>soundtrack</td>\n      <td>PERSON</td>\n      <td>fmqx5pt</td>\n      <td>fww19w</td>\n      <td>trailers</td>\n      <td>False</td>\n    </tr>\n    <tr>\n      <th>0</th>\n      <td>April 24</td>\n      <td>DATE</td>\n      <td>fmu0gdu</td>\n      <td>fww19w</td>\n      <td>trailers</td>\n      <td>False</td>\n    </tr>\n    <tr>\n      <th>0</th>\n      <td>last night</td>\n      <td>TIME</td>\n      <td>fouxjb3</td>\n      <td>fww19w</td>\n      <td>trailers</td>\n      <td>False</td>\n    </tr>\n    <tr>\n      <th>0</th>\n      <td>one</td>\n      <td>CARDINAL</td>\n      <td>fmteibl</td>\n      <td>fww19w</td>\n      <td>trailers</td>\n      <td>False</td>\n    </tr>\n    <tr>\n      <th>0</th>\n      <td>Zero</td>\n      <td>CARDINAL</td>\n      <td>fmteibl</td>\n      <td>fww19w</td>\n      <td>trailers</td>\n      <td>False</td>\n    </tr>\n  </tbody>\n</table>\n</div>"
     },
     "metadata": {},
     "execution_count": 70
    }
   ],
   "source": [
    "post_ents_df = parse_post_titles(thisPost)\n",
    "comment_ents_df = parse_comments(postCommentsDF)\n",
    "\n",
    "entity_df = post_ents_df.append(comment_ents_df)\n",
    "entity_df"
   ]
  },
  {
   "cell_type": "code",
   "execution_count": 71,
   "metadata": {},
   "outputs": [
    {
     "output_type": "execute_result",
     "data": {
      "text/plain": "     neg    neu    pos  compound post_id comment_id subreddit  is_post\n0  0.000  1.000  0.000    0.0000  fww19w             trailers     True\n0  0.110  0.698  0.192    0.3400  fww19w    fmqwx5o  trailers    False\n0  0.000  0.568  0.432    0.7264  fww19w    fmrakzg  trailers    False\n0  0.036  0.808  0.156    0.8343  fww19w    fmqt2pp  trailers    False\n0  0.123  0.795  0.083   -0.2960  fww19w    fmrkab4  trailers    False\n0  0.000  1.000  0.000    0.0000  fww19w    fms0ayc  trailers    False\n0  0.000  1.000  0.000    0.0000  fww19w    fmtvqly  trailers    False\n0  0.000  1.000  0.000    0.0000  fww19w    fmtqxp5  trailers    False\n0  0.156  0.768  0.076   -0.6922  fww19w    fn5yys1  trailers    False\n0  0.000  1.000  0.000    0.0000  fww19w    fncwv4k  trailers    False\n0  0.250  0.435  0.315    0.1531  fww19w    fng06f3  trailers    False\n0  0.087  0.740  0.173    0.7489  fww19w    foy2q11  trailers    False\n0  0.000  1.000  0.000    0.0000  fww19w    fmradi9  trailers    False\n0  0.042  0.863  0.095    0.4215  fww19w    fmtdui9  trailers    False\n0  0.000  0.664  0.336    0.7959  fww19w    fmqx5pt  trailers    False\n0  0.210  0.472  0.317    0.1242  fww19w    fmrqxt1  trailers    False\n0  0.000  1.000  0.000    0.0000  fww19w    fmu0gdu  trailers    False\n0  0.118  0.802  0.080   -0.2500  fww19w    fouxjb3  trailers    False\n0  0.035  0.965  0.000   -0.0772  fww19w    fmteibl  trailers    False\n0  0.000  0.253  0.747    0.7096  fww19w    fmuaalo  trailers    False\n0  0.183  0.697  0.120   -0.3990  fww19w    foy0p6b  trailers    False\n0  0.071  0.767  0.161    0.6597  fww19w    fmyhl5t  trailers    False",
      "text/html": "<div>\n<style scoped>\n    .dataframe tbody tr th:only-of-type {\n        vertical-align: middle;\n    }\n\n    .dataframe tbody tr th {\n        vertical-align: top;\n    }\n\n    .dataframe thead th {\n        text-align: right;\n    }\n</style>\n<table border=\"1\" class=\"dataframe\">\n  <thead>\n    <tr style=\"text-align: right;\">\n      <th></th>\n      <th>neg</th>\n      <th>neu</th>\n      <th>pos</th>\n      <th>compound</th>\n      <th>post_id</th>\n      <th>comment_id</th>\n      <th>subreddit</th>\n      <th>is_post</th>\n    </tr>\n  </thead>\n  <tbody>\n    <tr>\n      <th>0</th>\n      <td>0.000</td>\n      <td>1.000</td>\n      <td>0.000</td>\n      <td>0.0000</td>\n      <td>fww19w</td>\n      <td></td>\n      <td>trailers</td>\n      <td>True</td>\n    </tr>\n    <tr>\n      <th>0</th>\n      <td>0.110</td>\n      <td>0.698</td>\n      <td>0.192</td>\n      <td>0.3400</td>\n      <td>fww19w</td>\n      <td>fmqwx5o</td>\n      <td>trailers</td>\n      <td>False</td>\n    </tr>\n    <tr>\n      <th>0</th>\n      <td>0.000</td>\n      <td>0.568</td>\n      <td>0.432</td>\n      <td>0.7264</td>\n      <td>fww19w</td>\n      <td>fmrakzg</td>\n      <td>trailers</td>\n      <td>False</td>\n    </tr>\n    <tr>\n      <th>0</th>\n      <td>0.036</td>\n      <td>0.808</td>\n      <td>0.156</td>\n      <td>0.8343</td>\n      <td>fww19w</td>\n      <td>fmqt2pp</td>\n      <td>trailers</td>\n      <td>False</td>\n    </tr>\n    <tr>\n      <th>0</th>\n      <td>0.123</td>\n      <td>0.795</td>\n      <td>0.083</td>\n      <td>-0.2960</td>\n      <td>fww19w</td>\n      <td>fmrkab4</td>\n      <td>trailers</td>\n      <td>False</td>\n    </tr>\n    <tr>\n      <th>0</th>\n      <td>0.000</td>\n      <td>1.000</td>\n      <td>0.000</td>\n      <td>0.0000</td>\n      <td>fww19w</td>\n      <td>fms0ayc</td>\n      <td>trailers</td>\n      <td>False</td>\n    </tr>\n    <tr>\n      <th>0</th>\n      <td>0.000</td>\n      <td>1.000</td>\n      <td>0.000</td>\n      <td>0.0000</td>\n      <td>fww19w</td>\n      <td>fmtvqly</td>\n      <td>trailers</td>\n      <td>False</td>\n    </tr>\n    <tr>\n      <th>0</th>\n      <td>0.000</td>\n      <td>1.000</td>\n      <td>0.000</td>\n      <td>0.0000</td>\n      <td>fww19w</td>\n      <td>fmtqxp5</td>\n      <td>trailers</td>\n      <td>False</td>\n    </tr>\n    <tr>\n      <th>0</th>\n      <td>0.156</td>\n      <td>0.768</td>\n      <td>0.076</td>\n      <td>-0.6922</td>\n      <td>fww19w</td>\n      <td>fn5yys1</td>\n      <td>trailers</td>\n      <td>False</td>\n    </tr>\n    <tr>\n      <th>0</th>\n      <td>0.000</td>\n      <td>1.000</td>\n      <td>0.000</td>\n      <td>0.0000</td>\n      <td>fww19w</td>\n      <td>fncwv4k</td>\n      <td>trailers</td>\n      <td>False</td>\n    </tr>\n    <tr>\n      <th>0</th>\n      <td>0.250</td>\n      <td>0.435</td>\n      <td>0.315</td>\n      <td>0.1531</td>\n      <td>fww19w</td>\n      <td>fng06f3</td>\n      <td>trailers</td>\n      <td>False</td>\n    </tr>\n    <tr>\n      <th>0</th>\n      <td>0.087</td>\n      <td>0.740</td>\n      <td>0.173</td>\n      <td>0.7489</td>\n      <td>fww19w</td>\n      <td>foy2q11</td>\n      <td>trailers</td>\n      <td>False</td>\n    </tr>\n    <tr>\n      <th>0</th>\n      <td>0.000</td>\n      <td>1.000</td>\n      <td>0.000</td>\n      <td>0.0000</td>\n      <td>fww19w</td>\n      <td>fmradi9</td>\n      <td>trailers</td>\n      <td>False</td>\n    </tr>\n    <tr>\n      <th>0</th>\n      <td>0.042</td>\n      <td>0.863</td>\n      <td>0.095</td>\n      <td>0.4215</td>\n      <td>fww19w</td>\n      <td>fmtdui9</td>\n      <td>trailers</td>\n      <td>False</td>\n    </tr>\n    <tr>\n      <th>0</th>\n      <td>0.000</td>\n      <td>0.664</td>\n      <td>0.336</td>\n      <td>0.7959</td>\n      <td>fww19w</td>\n      <td>fmqx5pt</td>\n      <td>trailers</td>\n      <td>False</td>\n    </tr>\n    <tr>\n      <th>0</th>\n      <td>0.210</td>\n      <td>0.472</td>\n      <td>0.317</td>\n      <td>0.1242</td>\n      <td>fww19w</td>\n      <td>fmrqxt1</td>\n      <td>trailers</td>\n      <td>False</td>\n    </tr>\n    <tr>\n      <th>0</th>\n      <td>0.000</td>\n      <td>1.000</td>\n      <td>0.000</td>\n      <td>0.0000</td>\n      <td>fww19w</td>\n      <td>fmu0gdu</td>\n      <td>trailers</td>\n      <td>False</td>\n    </tr>\n    <tr>\n      <th>0</th>\n      <td>0.118</td>\n      <td>0.802</td>\n      <td>0.080</td>\n      <td>-0.2500</td>\n      <td>fww19w</td>\n      <td>fouxjb3</td>\n      <td>trailers</td>\n      <td>False</td>\n    </tr>\n    <tr>\n      <th>0</th>\n      <td>0.035</td>\n      <td>0.965</td>\n      <td>0.000</td>\n      <td>-0.0772</td>\n      <td>fww19w</td>\n      <td>fmteibl</td>\n      <td>trailers</td>\n      <td>False</td>\n    </tr>\n    <tr>\n      <th>0</th>\n      <td>0.000</td>\n      <td>0.253</td>\n      <td>0.747</td>\n      <td>0.7096</td>\n      <td>fww19w</td>\n      <td>fmuaalo</td>\n      <td>trailers</td>\n      <td>False</td>\n    </tr>\n    <tr>\n      <th>0</th>\n      <td>0.183</td>\n      <td>0.697</td>\n      <td>0.120</td>\n      <td>-0.3990</td>\n      <td>fww19w</td>\n      <td>foy0p6b</td>\n      <td>trailers</td>\n      <td>False</td>\n    </tr>\n    <tr>\n      <th>0</th>\n      <td>0.071</td>\n      <td>0.767</td>\n      <td>0.161</td>\n      <td>0.6597</td>\n      <td>fww19w</td>\n      <td>fmyhl5t</td>\n      <td>trailers</td>\n      <td>False</td>\n    </tr>\n  </tbody>\n</table>\n</div>"
     },
     "metadata": {},
     "execution_count": 71
    }
   ],
   "source": [
    "#get sentiment \n",
    "post_sentiment_df = parse_sentiment(thisPost,'post')\n",
    "comment_sentiment_df = parse_sentiment(postCommentsDF,'comment')\n",
    "#apppend sentiment\n",
    "sentiment_df = post_sentiment_df.append(comment_sentiment_df)\n",
    "sentiment_df"
   ]
  },
  {
   "cell_type": "markdown",
   "metadata": {},
   "source": [
    "#Checking Examples:\n"
   ]
  },
  {
   "cell_type": "code",
   "execution_count": 72,
   "metadata": {},
   "outputs": [
    {
     "output_type": "execute_result",
     "data": {
      "text/plain": "['Extraction | Official Trailer | Netflix - Chris Hemsworth & David Harbour']"
     },
     "metadata": {},
     "execution_count": 72
    }
   ],
   "source": [
    "list(thisPost['title'])"
   ]
  },
  {
   "cell_type": "code",
   "execution_count": 74,
   "metadata": {},
   "outputs": [
    {
     "output_type": "execute_result",
     "data": {
      "text/plain": "['Is there anyone who hate the trailers that spoil the whole movie ? Or it’s just me. I feel like watch the movie when the trailer is over.']"
     },
     "metadata": {},
     "execution_count": 74
    }
   ],
   "source": [
    "comment_id = 'fmrkab4'\n",
    "list(postCommentsDF[postCommentsDF['id']==comment_id]['body'])"
   ]
  },
  {
   "cell_type": "code",
   "execution_count": 75,
   "metadata": {},
   "outputs": [],
   "source": [
    "doc = nlp(postCommentsDF[postCommentsDF['id']==comment_id]['body'].item())"
   ]
  },
  {
   "cell_type": "code",
   "execution_count": 76,
   "metadata": {},
   "outputs": [
    {
     "output_type": "stream",
     "name": "stdout",
     "text": "()\n{'neg': 0.123, 'neu': 0.795, 'pos': 0.083, 'compound': -0.296}\n"
    }
   ],
   "source": [
    "print(doc.ents)\n",
    "print(doc._.sentiment_score)"
   ]
  },
  {
   "cell_type": "code",
   "execution_count": 14,
   "metadata": {},
   "outputs": [],
   "source": [
    "#sentiment analysis \n",
    "#vader vs other:\n",
    "# https://towardsdatascience.com/sentiment-analysis-beyond-words-6ca17a6c1b54\n",
    "\n",
    "#spacy + vader \n",
    "# https://nlpforhackers.io/complete-guide-to-spacy/"
   ]
  },
  {
   "cell_type": "code",
   "execution_count": null,
   "metadata": {},
   "outputs": [],
   "source": []
  }
 ],
 "metadata": {
  "language_info": {
   "codemirror_mode": {
    "name": "ipython",
    "version": 3
   },
   "file_extension": ".py",
   "mimetype": "text/x-python",
   "name": "python",
   "nbconvert_exporter": "python",
   "pygments_lexer": "ipython3",
   "version": "3.7.6-final"
  },
  "orig_nbformat": 2,
  "kernelspec": {
   "name": "python37664bitvenvvenv47b65cf57d4d48c1aee271492c637f7a",
   "display_name": "Python 3.7.6 64-bit ('venv': venv)"
  }
 },
 "nbformat": 4,
 "nbformat_minor": 2
}