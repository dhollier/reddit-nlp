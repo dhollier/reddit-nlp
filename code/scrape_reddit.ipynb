{
 "cells": [
  {
   "cell_type": "code",
   "execution_count": 1,
   "metadata": {},
   "outputs": [
    {
     "output_type": "stream",
     "name": "stdout",
     "text": "automatic-benji\n"
    }
   ],
   "source": [
    "with open('./func.py') as fd:\n",
    "    exec(fd.read())"
   ]
  },
  {
   "cell_type": "code",
   "execution_count": 24,
   "metadata": {},
   "outputs": [
    {
     "output_type": "stream",
     "name": "stdout",
     "text": "~Getting posts for trailers sorted by top, for month with limit 10\n~Done!!! 10 posts found in trailers\n"
    }
   ],
   "source": [
    "postsDF = get_posts('trailers','top',10,\"month\")"
   ]
  },
  {
   "cell_type": "code",
   "execution_count": 6,
   "metadata": {},
   "outputs": [
    {
     "output_type": "execute_result",
     "data": {
      "text/plain": "       id                                              title  \\\n0  g7eift  TAZMANIAN DEVIL (2020) - Nigerian immigrant dr...   \n1  g6sqzw  Bompton Had a Dream - Official Trailer; MOORvi...   \n2  g87gv6     \"Garden Of The Gods\" - Official Trailer (2020)   \n3  g7cei0                 Just Like You (2020) FINAL TRAILER   \n\n          created_utc  score subreddit  \\\n0 2020-04-24 19:10:01     25  trailers   \n1 2020-04-23 19:08:50     14  trailers   \n2 2020-04-26 03:43:41      4  trailers   \n3 2020-04-24 17:19:25      0  trailers   \n\n                                                 url  num_comments selftext  \\\n0  https://www.youtube.com/watch?v=LmX6SuWvuyM&fe...             0            \n1        https://www.youtube.com/watch?v=-dFr0jRVUAs             5            \n2                        https://vimeo.com/397855568             0            \n3        https://www.youtube.com/watch?v=AIM1X_L5TAc             6            \n\n   stickied  spoiler  subreddit_subscribers subreddit_type subreddit_id  \\\n0     False    False                  70132         public     t5_2qog5   \n1     False    False                  70132         public     t5_2qog5   \n2     False    False                  70132         public     t5_2qog5   \n3     False    False                  70132         public     t5_2qog5   \n\n  subreddit  total_awards_received  ups  downs  upvote_ratio view_count  \\\n0  trailers                      0   25      0          0.74       None   \n1  trailers                      0   14      0          0.72       None   \n2  trailers                      0    4      0          1.00       None   \n3  trailers                      0    0      0          0.50       None   \n\n   quarantine removal_reason removed_by_category report_reasons  pinned  \\\n0       False           None                None           None   False   \n1       False           None                None           None   False   \n2       False           None                None           None   False   \n3       False           None                None           None   False   \n\n                                           permalink  over_18 num_reports  \\\n0  /r/trailers/comments/g7eift/tazmanian_devil_20...    False        None   \n1  /r/trailers/comments/g6sqzw/bompton_had_a_drea...    False        None   \n2  /r/trailers/comments/g87gv6/garden_of_the_gods...    False        None   \n3  /r/trailers/comments/g7cei0/just_like_you_2020...    False        None   \n\n   num_duplicates  num_crossposts  num_comments  no_follow  \\\n0               0               0             0      False   \n1               0               0             5      False   \n2               0               0             0       True   \n3               0               0             6       True   \n\n                                               media  \\\n0  {'oembed': {'provider_url': 'https://www.youtu...   \n1  {'oembed': {'provider_url': 'https://www.youtu...   \n2  {'type': 'vimeo.com', 'oembed': {'provider_url...   \n3  {'oembed': {'provider_url': 'https://www.youtu...   \n\n                                         media_embed  media_only  is_video  \\\n0  {'content': '<iframe width=\"600\" height=\"338\" ...       False     False   \n1  {'content': '<iframe width=\"600\" height=\"338\" ...       False     False   \n2  {'content': '<iframe class=\"embedly-embed\" src...       False     False   \n3  {'content': '<iframe width=\"600\" height=\"338\" ...       False     False   \n\n   is_original_content  gilded  edited category banned_at_utc  archived  \n0                False       0   False     None           NaT     False  \n1                False       0   False     None           NaT     False  \n2                False       0   False     None           NaT     False  \n3                False       0   False     None           NaT     False  ",
      "text/html": "<div>\n<style scoped>\n    .dataframe tbody tr th:only-of-type {\n        vertical-align: middle;\n    }\n\n    .dataframe tbody tr th {\n        vertical-align: top;\n    }\n\n    .dataframe thead th {\n        text-align: right;\n    }\n</style>\n<table border=\"1\" class=\"dataframe\">\n  <thead>\n    <tr style=\"text-align: right;\">\n      <th></th>\n      <th>id</th>\n      <th>title</th>\n      <th>created_utc</th>\n      <th>score</th>\n      <th>subreddit</th>\n      <th>url</th>\n      <th>num_comments</th>\n      <th>selftext</th>\n      <th>stickied</th>\n      <th>spoiler</th>\n      <th>subreddit_subscribers</th>\n      <th>subreddit_type</th>\n      <th>subreddit_id</th>\n      <th>subreddit</th>\n      <th>total_awards_received</th>\n      <th>ups</th>\n      <th>downs</th>\n      <th>upvote_ratio</th>\n      <th>view_count</th>\n      <th>quarantine</th>\n      <th>removal_reason</th>\n      <th>removed_by_category</th>\n      <th>report_reasons</th>\n      <th>pinned</th>\n      <th>permalink</th>\n      <th>over_18</th>\n      <th>num_reports</th>\n      <th>num_duplicates</th>\n      <th>num_crossposts</th>\n      <th>num_comments</th>\n      <th>no_follow</th>\n      <th>media</th>\n      <th>media_embed</th>\n      <th>media_only</th>\n      <th>is_video</th>\n      <th>is_original_content</th>\n      <th>gilded</th>\n      <th>edited</th>\n      <th>category</th>\n      <th>banned_at_utc</th>\n      <th>archived</th>\n    </tr>\n  </thead>\n  <tbody>\n    <tr>\n      <th>0</th>\n      <td>g7eift</td>\n      <td>TAZMANIAN DEVIL (2020) - Nigerian immigrant dr...</td>\n      <td>2020-04-24 19:10:01</td>\n      <td>25</td>\n      <td>trailers</td>\n      <td>https://www.youtube.com/watch?v=LmX6SuWvuyM&amp;fe...</td>\n      <td>0</td>\n      <td></td>\n      <td>False</td>\n      <td>False</td>\n      <td>70132</td>\n      <td>public</td>\n      <td>t5_2qog5</td>\n      <td>trailers</td>\n      <td>0</td>\n      <td>25</td>\n      <td>0</td>\n      <td>0.74</td>\n      <td>None</td>\n      <td>False</td>\n      <td>None</td>\n      <td>None</td>\n      <td>None</td>\n      <td>False</td>\n      <td>/r/trailers/comments/g7eift/tazmanian_devil_20...</td>\n      <td>False</td>\n      <td>None</td>\n      <td>0</td>\n      <td>0</td>\n      <td>0</td>\n      <td>False</td>\n      <td>{'oembed': {'provider_url': 'https://www.youtu...</td>\n      <td>{'content': '&lt;iframe width=\"600\" height=\"338\" ...</td>\n      <td>False</td>\n      <td>False</td>\n      <td>False</td>\n      <td>0</td>\n      <td>False</td>\n      <td>None</td>\n      <td>NaT</td>\n      <td>False</td>\n    </tr>\n    <tr>\n      <th>1</th>\n      <td>g6sqzw</td>\n      <td>Bompton Had a Dream - Official Trailer; MOORvi...</td>\n      <td>2020-04-23 19:08:50</td>\n      <td>14</td>\n      <td>trailers</td>\n      <td>https://www.youtube.com/watch?v=-dFr0jRVUAs</td>\n      <td>5</td>\n      <td></td>\n      <td>False</td>\n      <td>False</td>\n      <td>70132</td>\n      <td>public</td>\n      <td>t5_2qog5</td>\n      <td>trailers</td>\n      <td>0</td>\n      <td>14</td>\n      <td>0</td>\n      <td>0.72</td>\n      <td>None</td>\n      <td>False</td>\n      <td>None</td>\n      <td>None</td>\n      <td>None</td>\n      <td>False</td>\n      <td>/r/trailers/comments/g6sqzw/bompton_had_a_drea...</td>\n      <td>False</td>\n      <td>None</td>\n      <td>0</td>\n      <td>0</td>\n      <td>5</td>\n      <td>False</td>\n      <td>{'oembed': {'provider_url': 'https://www.youtu...</td>\n      <td>{'content': '&lt;iframe width=\"600\" height=\"338\" ...</td>\n      <td>False</td>\n      <td>False</td>\n      <td>False</td>\n      <td>0</td>\n      <td>False</td>\n      <td>None</td>\n      <td>NaT</td>\n      <td>False</td>\n    </tr>\n    <tr>\n      <th>2</th>\n      <td>g87gv6</td>\n      <td>\"Garden Of The Gods\" - Official Trailer (2020)</td>\n      <td>2020-04-26 03:43:41</td>\n      <td>4</td>\n      <td>trailers</td>\n      <td>https://vimeo.com/397855568</td>\n      <td>0</td>\n      <td></td>\n      <td>False</td>\n      <td>False</td>\n      <td>70132</td>\n      <td>public</td>\n      <td>t5_2qog5</td>\n      <td>trailers</td>\n      <td>0</td>\n      <td>4</td>\n      <td>0</td>\n      <td>1.00</td>\n      <td>None</td>\n      <td>False</td>\n      <td>None</td>\n      <td>None</td>\n      <td>None</td>\n      <td>False</td>\n      <td>/r/trailers/comments/g87gv6/garden_of_the_gods...</td>\n      <td>False</td>\n      <td>None</td>\n      <td>0</td>\n      <td>0</td>\n      <td>0</td>\n      <td>True</td>\n      <td>{'type': 'vimeo.com', 'oembed': {'provider_url...</td>\n      <td>{'content': '&lt;iframe class=\"embedly-embed\" src...</td>\n      <td>False</td>\n      <td>False</td>\n      <td>False</td>\n      <td>0</td>\n      <td>False</td>\n      <td>None</td>\n      <td>NaT</td>\n      <td>False</td>\n    </tr>\n    <tr>\n      <th>3</th>\n      <td>g7cei0</td>\n      <td>Just Like You (2020) FINAL TRAILER</td>\n      <td>2020-04-24 17:19:25</td>\n      <td>0</td>\n      <td>trailers</td>\n      <td>https://www.youtube.com/watch?v=AIM1X_L5TAc</td>\n      <td>6</td>\n      <td></td>\n      <td>False</td>\n      <td>False</td>\n      <td>70132</td>\n      <td>public</td>\n      <td>t5_2qog5</td>\n      <td>trailers</td>\n      <td>0</td>\n      <td>0</td>\n      <td>0</td>\n      <td>0.50</td>\n      <td>None</td>\n      <td>False</td>\n      <td>None</td>\n      <td>None</td>\n      <td>None</td>\n      <td>False</td>\n      <td>/r/trailers/comments/g7cei0/just_like_you_2020...</td>\n      <td>False</td>\n      <td>None</td>\n      <td>0</td>\n      <td>0</td>\n      <td>6</td>\n      <td>True</td>\n      <td>{'oembed': {'provider_url': 'https://www.youtu...</td>\n      <td>{'content': '&lt;iframe width=\"600\" height=\"338\" ...</td>\n      <td>False</td>\n      <td>False</td>\n      <td>False</td>\n      <td>0</td>\n      <td>False</td>\n      <td>None</td>\n      <td>NaT</td>\n      <td>False</td>\n    </tr>\n  </tbody>\n</table>\n</div>"
     },
     "metadata": {},
     "execution_count": 6
    }
   ],
   "source": [
    "postsDF.head()"
   ]
  },
  {
   "cell_type": "code",
   "execution_count": 26,
   "metadata": {},
   "outputs": [],
   "source": [
    "postsDF.to_csv('../output/postsDF.csv', encoding='utf-8')"
   ]
  },
  {
   "cell_type": "code",
   "execution_count": 27,
   "metadata": {},
   "outputs": [
    {
     "output_type": "stream",
     "name": "stdout",
     "text": "0    /r/trailers/comments/ftfwrt/train_to_busan_pre...\n1    /r/trailers/comments/fww19w/extraction_officia...\n2    /r/trailers/comments/fw7l4y/kung_fury_type_ret...\n3    /r/trailers/comments/g2964d/capone_official_tr...\n4    /r/trailers/comments/frq3of/light_from_light_a...\n5    /r/trailers/comments/g2prjx/z_a_couple_is_shak...\n6    /r/trailers/comments/g63ufi/burn_with_us_2020_...\n7    /r/trailers/comments/fu8uc2/why_dont_you_just_...\n8    /r/trailers/comments/g3y8c9/masameer_the_movie...\n9    /r/trailers/comments/g51oyh/the_willoughbys_of...\nName: permalink, dtype: object\n"
    }
   ],
   "source": [
    "url_lists = postsDF['permalink']\n",
    "print(url_lists)"
   ]
  },
  {
   "cell_type": "code",
   "execution_count": 48,
   "metadata": {},
   "outputs": [
    {
     "output_type": "stream",
     "name": "stdout",
     "text": "~Getting comments for: https://www.reddit.com/r/trailers/comments/ftfwrt/train_to_busan_presents_peninsula_4_years_after/\n~Done!!! 11 comments found\n~Getting comments for: https://www.reddit.com/r/trailers/comments/fww19w/extraction_official_trailer_netflix_chris/\n~Done!!! 21 comments found\n~Getting comments for: https://www.reddit.com/r/trailers/comments/fw7l4y/kung_fury_type_retro_movie_escape_from_north/\n~Done!!! 15 comments found\n~Getting comments for: https://www.reddit.com/r/trailers/comments/g2964d/capone_official_trailer_hd_al_fonzo_capone_tom/\n~Done!!! 20 comments found\n~Getting comments for: https://www.reddit.com/r/trailers/comments/frq3of/light_from_light_a_paranormal_investigator_is/\n~Done!!! 4 comments found\n~Getting comments for: https://www.reddit.com/r/trailers/comments/g2prjx/z_a_couple_is_shaken_to_the_core_when_their/\n~Done!!! 16 comments found\n~Getting comments for: https://www.reddit.com/r/trailers/comments/g63ufi/burn_with_us_2020_trailer/\n~Done!!! 7 comments found\n~Getting comments for: https://www.reddit.com/r/trailers/comments/fu8uc2/why_dont_you_just_die_russian_w_subtitles/\n~Done!!! 3 comments found\n~Getting comments for: https://www.reddit.com/r/trailers/comments/g3y8c9/masameer_the_movie_a_young_girl_passionate_about/\n~Done!!! 1 comments found\n~Getting comments for: https://www.reddit.com/r/trailers/comments/g51oyh/the_willoughbys_official_trailer_neglected_by/\n~Done!!! 2 comments found\n"
    }
   ],
   "source": [
    "commentDF = [get_comments(link) for link in url_lists]\n",
    "commentDF = pd.concat(commentDF)"
   ]
  },
  {
   "cell_type": "code",
   "execution_count": 51,
   "metadata": {},
   "outputs": [],
   "source": [
    "commentDF.to_csv('../output/commentDF.csv', encoding='utf-8')"
   ]
  },
  {
   "cell_type": "code",
   "execution_count": null,
   "metadata": {},
   "outputs": [],
   "source": [
    "a = clean_text(postsDF['title'][0])\n",
    "\n",
    "print(a)"
   ]
  },
  {
   "cell_type": "code",
   "execution_count": null,
   "metadata": {},
   "outputs": [],
   "source": []
  }
 ],
 "metadata": {
  "language_info": {
   "name": "python",
   "codemirror_mode": {
    "name": "ipython",
    "version": 3
   },
   "version": "3.7.6-final"
  },
  "orig_nbformat": 2,
  "file_extension": ".py",
  "mimetype": "text/x-python",
  "name": "python",
  "npconvert_exporter": "python",
  "pygments_lexer": "ipython3",
  "version": 3,
  "kernelspec": {
   "name": "python37664bitvenvvenv47b65cf57d4d48c1aee271492c637f7a",
   "display_name": "Python 3.7.6 64-bit ('venv': venv)"
  }
 },
 "nbformat": 4,
 "nbformat_minor": 2
}