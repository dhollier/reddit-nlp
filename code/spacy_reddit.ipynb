{
 "cells": [
  {
   "cell_type": "code",
   "execution_count": 1,
   "metadata": {},
   "outputs": [],
   "source": [
    "import spacy\n",
    "import pandas as pd \n",
    "\n",
    "#load spacy english medium model\n",
    "nlp = spacy.load(\"en_core_web_md\")\n",
    "pd.set_option('display.max_columns', None)"
   ]
  },
  {
   "cell_type": "code",
   "execution_count": 2,
   "metadata": {},
   "outputs": [],
   "source": [
    " def get_ents(doc,id):\n",
    "    # ents_list] =[]\n",
    "    ents_df = pd.DataFrame()\n",
    "    for ent in doc.ents:\n",
    "        this_ent = pd.DataFrame({'text' : [ent.text], 'label' : [ent.label_], 'comment_id': [id]})\n",
    "        # ents_list.append(this_ent)\n",
    "        ents_df = ents_df.append(this_ent)\n",
    "    return ents_df\n"
   ]
  },
  {
   "cell_type": "code",
   "execution_count": 3,
   "metadata": {},
   "outputs": [],
   "source": [
    "\n",
    "\n",
    "def parse_comments(df):\n",
    "    #create doc object\n",
    "    all_ents = pd.DataFrame()\n",
    "    for index,row in df.iterrows():\n",
    "        doc = nlp(row['body'])\n",
    "        comment_id = row['id']\n",
    "        #get ents\n",
    "        ents = get_ents(doc,comment_id)\n",
    "        #add ids to df\n",
    "        ents['post_id'] = row['submission_id']\n",
    "        ents['subreddit']= row['subreddit']\n",
    "        if  ents.empty ==False:\n",
    "            all_ents = all_ents.append(ents)\n",
    "    return all_ents"
   ]
  },
  {
   "cell_type": "code",
   "execution_count": 31,
   "metadata": {},
   "outputs": [],
   "source": [
    "def parse_post_titles(df):\n",
    "    #create doc object\n",
    "    all_ents = pd.DataFrame()\n",
    "    for index,row in df.iterrows():\n",
    "        doc = nlp(row['title'])\n",
    "        post_id = row['id']\n",
    "        #get ents\n",
    "        ents = get_ents(doc,post_id).rename(columns={'comment_id':'post_id'})\n",
    "        #add ids to df\n",
    "        ents['comment_id']= ''\n",
    "        ents['subreddit']= row['subreddit']\n",
    "        if  ents.empty ==False:\n",
    "            all_ents = all_ents.append(ents)\n",
    "    return all_ents"
   ]
  },
  {
   "cell_type": "code",
   "execution_count": 4,
   "metadata": {},
   "outputs": [],
   "source": [
    "#read csvs\n",
    "\n",
    "commentDF = pd.read_csv('../output/commentDF.csv')  \n",
    "\n",
    "postsDF = pd.read_csv('../output/postsDF.csv')  \n",
    "\n"
   ]
  },
  {
   "cell_type": "code",
   "execution_count": 15,
   "metadata": {},
   "outputs": [
    {
     "output_type": "execute_result",
     "data": {
      "text/plain": "   Unnamed: 0      id                                              title  \\\n2           2  fw7l4y  Kung Fury type retro movie Escape from North K...   \n\n           created_utc  score subreddit  \\\n2  2020-04-06 21:37:30    133  trailers   \n\n                                           url  num_comments  selftext  \\\n2  https://www.youtube.com/watch?v=7NzSy1AH8bM            15       NaN   \n\n   stickied  spoiler  subreddit_subscribers subreddit_type subreddit_id  \\\n2     False    False                  70132         public     t5_2qog5   \n\n  subreddit.1  total_awards_received  ups  downs  upvote_ratio  view_count  \\\n2    trailers                      0  133      0          0.94         NaN   \n\n   quarantine  removal_reason  removed_by_category  report_reasons  pinned  \\\n2       False             NaN                  NaN             NaN   False   \n\n                                           permalink  over_18  num_reports  \\\n2  /r/trailers/comments/fw7l4y/kung_fury_type_ret...    False          NaN   \n\n   num_duplicates  num_crossposts  num_comments.1  no_follow  \\\n2               0               0              15      False   \n\n                                               media  \\\n2  {'type': 'youtube.com', 'oembed': {'provider_u...   \n\n                                         media_embed  media_only  is_video  \\\n2  {'content': '<iframe width=\"600\" height=\"338\" ...       False     False   \n\n   is_original_content  gilded  edited  category  banned_at_utc  archived  \n2                False       0   False       NaN            NaN     False  ",
      "text/html": "<div>\n<style scoped>\n    .dataframe tbody tr th:only-of-type {\n        vertical-align: middle;\n    }\n\n    .dataframe tbody tr th {\n        vertical-align: top;\n    }\n\n    .dataframe thead th {\n        text-align: right;\n    }\n</style>\n<table border=\"1\" class=\"dataframe\">\n  <thead>\n    <tr style=\"text-align: right;\">\n      <th></th>\n      <th>Unnamed: 0</th>\n      <th>id</th>\n      <th>title</th>\n      <th>created_utc</th>\n      <th>score</th>\n      <th>subreddit</th>\n      <th>url</th>\n      <th>num_comments</th>\n      <th>selftext</th>\n      <th>stickied</th>\n      <th>spoiler</th>\n      <th>subreddit_subscribers</th>\n      <th>subreddit_type</th>\n      <th>subreddit_id</th>\n      <th>subreddit.1</th>\n      <th>total_awards_received</th>\n      <th>ups</th>\n      <th>downs</th>\n      <th>upvote_ratio</th>\n      <th>view_count</th>\n      <th>quarantine</th>\n      <th>removal_reason</th>\n      <th>removed_by_category</th>\n      <th>report_reasons</th>\n      <th>pinned</th>\n      <th>permalink</th>\n      <th>over_18</th>\n      <th>num_reports</th>\n      <th>num_duplicates</th>\n      <th>num_crossposts</th>\n      <th>num_comments.1</th>\n      <th>no_follow</th>\n      <th>media</th>\n      <th>media_embed</th>\n      <th>media_only</th>\n      <th>is_video</th>\n      <th>is_original_content</th>\n      <th>gilded</th>\n      <th>edited</th>\n      <th>category</th>\n      <th>banned_at_utc</th>\n      <th>archived</th>\n    </tr>\n  </thead>\n  <tbody>\n    <tr>\n      <th>2</th>\n      <td>2</td>\n      <td>fw7l4y</td>\n      <td>Kung Fury type retro movie Escape from North K...</td>\n      <td>2020-04-06 21:37:30</td>\n      <td>133</td>\n      <td>trailers</td>\n      <td>https://www.youtube.com/watch?v=7NzSy1AH8bM</td>\n      <td>15</td>\n      <td>NaN</td>\n      <td>False</td>\n      <td>False</td>\n      <td>70132</td>\n      <td>public</td>\n      <td>t5_2qog5</td>\n      <td>trailers</td>\n      <td>0</td>\n      <td>133</td>\n      <td>0</td>\n      <td>0.94</td>\n      <td>NaN</td>\n      <td>False</td>\n      <td>NaN</td>\n      <td>NaN</td>\n      <td>NaN</td>\n      <td>False</td>\n      <td>/r/trailers/comments/fw7l4y/kung_fury_type_ret...</td>\n      <td>False</td>\n      <td>NaN</td>\n      <td>0</td>\n      <td>0</td>\n      <td>15</td>\n      <td>False</td>\n      <td>{'type': 'youtube.com', 'oembed': {'provider_u...</td>\n      <td>{'content': '&lt;iframe width=\"600\" height=\"338\" ...</td>\n      <td>False</td>\n      <td>False</td>\n      <td>False</td>\n      <td>0</td>\n      <td>False</td>\n      <td>NaN</td>\n      <td>NaN</td>\n      <td>False</td>\n    </tr>\n  </tbody>\n</table>\n</div>"
     },
     "metadata": {},
     "execution_count": 15
    }
   ],
   "source": [
    "thisPost = postsDF.iloc[[2]]\n",
    "\n",
    "thisPost"
   ]
  },
  {
   "cell_type": "code",
   "execution_count": 16,
   "metadata": {},
   "outputs": [],
   "source": [
    "\n",
    "postCommentsDF = commentDF[commentDF[\"submission_id\"] == thisPost['id'].values[0]]\n",
    "\n"
   ]
  },
  {
   "cell_type": "code",
   "execution_count": 32,
   "metadata": {},
   "outputs": [
    {
     "output_type": "execute_result",
     "data": {
      "text/plain": "          text label post_id comment_id subreddit\n0  North Korea   GPE  fw7l4y             trailers\n0       friday  DATE  fw7l4y             trailers",
      "text/html": "<div>\n<style scoped>\n    .dataframe tbody tr th:only-of-type {\n        vertical-align: middle;\n    }\n\n    .dataframe tbody tr th {\n        vertical-align: top;\n    }\n\n    .dataframe thead th {\n        text-align: right;\n    }\n</style>\n<table border=\"1\" class=\"dataframe\">\n  <thead>\n    <tr style=\"text-align: right;\">\n      <th></th>\n      <th>text</th>\n      <th>label</th>\n      <th>post_id</th>\n      <th>comment_id</th>\n      <th>subreddit</th>\n    </tr>\n  </thead>\n  <tbody>\n    <tr>\n      <th>0</th>\n      <td>North Korea</td>\n      <td>GPE</td>\n      <td>fw7l4y</td>\n      <td></td>\n      <td>trailers</td>\n    </tr>\n    <tr>\n      <th>0</th>\n      <td>friday</td>\n      <td>DATE</td>\n      <td>fw7l4y</td>\n      <td></td>\n      <td>trailers</td>\n    </tr>\n  </tbody>\n</table>\n</div>"
     },
     "metadata": {},
     "execution_count": 32
    }
   ],
   "source": [
    "parse_post_titles(thisPost)"
   ]
  },
  {
   "cell_type": "code",
   "execution_count": 17,
   "metadata": {
    "tags": [
     "outputPrepend"
    ]
   },
   "outputs": [],
   "source": [
    "test  = parse_comments(postCommentsDF)"
   ]
  },
  {
   "cell_type": "code",
   "execution_count": 18,
   "metadata": {},
   "outputs": [
    {
     "output_type": "execute_result",
     "data": {
      "text/plain": "            text        label comment_id post_id subreddit\n0     Tricericop       PERSON    fmn2ku7  fw7l4y  trailers\n0    North Korea          GPE    fmnuvfv  fw7l4y  trailers\n0         second      ORDINAL    fmo6ajn  fw7l4y  trailers\n0  Jake Plisskin       PERSON    fmsefse  fw7l4y  trailers\n0              2     CARDINAL    fmq8cd7  fw7l4y  trailers\n0       Casshern  WORK_OF_ART    fmrlsv3  fw7l4y  trailers\n0        a month         DATE    fmu1q8o  fw7l4y  trailers",
      "text/html": "<div>\n<style scoped>\n    .dataframe tbody tr th:only-of-type {\n        vertical-align: middle;\n    }\n\n    .dataframe tbody tr th {\n        vertical-align: top;\n    }\n\n    .dataframe thead th {\n        text-align: right;\n    }\n</style>\n<table border=\"1\" class=\"dataframe\">\n  <thead>\n    <tr style=\"text-align: right;\">\n      <th></th>\n      <th>text</th>\n      <th>label</th>\n      <th>comment_id</th>\n      <th>post_id</th>\n      <th>subreddit</th>\n    </tr>\n  </thead>\n  <tbody>\n    <tr>\n      <th>0</th>\n      <td>Tricericop</td>\n      <td>PERSON</td>\n      <td>fmn2ku7</td>\n      <td>fw7l4y</td>\n      <td>trailers</td>\n    </tr>\n    <tr>\n      <th>0</th>\n      <td>North Korea</td>\n      <td>GPE</td>\n      <td>fmnuvfv</td>\n      <td>fw7l4y</td>\n      <td>trailers</td>\n    </tr>\n    <tr>\n      <th>0</th>\n      <td>second</td>\n      <td>ORDINAL</td>\n      <td>fmo6ajn</td>\n      <td>fw7l4y</td>\n      <td>trailers</td>\n    </tr>\n    <tr>\n      <th>0</th>\n      <td>Jake Plisskin</td>\n      <td>PERSON</td>\n      <td>fmsefse</td>\n      <td>fw7l4y</td>\n      <td>trailers</td>\n    </tr>\n    <tr>\n      <th>0</th>\n      <td>2</td>\n      <td>CARDINAL</td>\n      <td>fmq8cd7</td>\n      <td>fw7l4y</td>\n      <td>trailers</td>\n    </tr>\n    <tr>\n      <th>0</th>\n      <td>Casshern</td>\n      <td>WORK_OF_ART</td>\n      <td>fmrlsv3</td>\n      <td>fw7l4y</td>\n      <td>trailers</td>\n    </tr>\n    <tr>\n      <th>0</th>\n      <td>a month</td>\n      <td>DATE</td>\n      <td>fmu1q8o</td>\n      <td>fw7l4y</td>\n      <td>trailers</td>\n    </tr>\n  </tbody>\n</table>\n</div>"
     },
     "metadata": {},
     "execution_count": 18
    }
   ],
   "source": [
    "test.head(100)"
   ]
  },
  {
   "cell_type": "code",
   "execution_count": 26,
   "metadata": {},
   "outputs": [
    {
     "output_type": "execute_result",
     "data": {
      "text/plain": "['Kung Fury type retro movie Escape from North Korea releases friday.']"
     },
     "metadata": {},
     "execution_count": 26
    }
   ],
   "source": [
    "list(thisPost['title'])"
   ]
  },
  {
   "cell_type": "code",
   "execution_count": 33,
   "metadata": {},
   "outputs": [
    {
     "output_type": "execute_result",
     "data": {
      "text/plain": "[\"Who's your protagonist? Jake Plisskin?\"]"
     },
     "metadata": {},
     "execution_count": 33
    }
   ],
   "source": [
    "list(postCommentsDF[postCommentsDF['id']=='fmsefse']['body'])"
   ]
  },
  {
   "cell_type": "code",
   "execution_count": null,
   "metadata": {},
   "outputs": [],
   "source": [
    "#sentiment analysis \n",
    "#vader vs other:\n",
    "# https://towardsdatascience.com/sentiment-analysis-beyond-words-6ca17a6c1b54\n",
    "\n",
    "#spacy + vader \n",
    "# https://nlpforhackers.io/complete-guide-to-spacy/"
   ]
  },
  {
   "cell_type": "code",
   "execution_count": null,
   "metadata": {},
   "outputs": [],
   "source": []
  }
 ],
 "metadata": {
  "language_info": {
   "codemirror_mode": {
    "name": "ipython",
    "version": 3
   },
   "file_extension": ".py",
   "mimetype": "text/x-python",
   "name": "python",
   "nbconvert_exporter": "python",
   "pygments_lexer": "ipython3",
   "version": "3.7.6-final"
  },
  "orig_nbformat": 2,
  "kernelspec": {
   "name": "python37664bitvenvvenv47b65cf57d4d48c1aee271492c637f7a",
   "display_name": "Python 3.7.6 64-bit ('venv': venv)"
  }
 },
 "nbformat": 4,
 "nbformat_minor": 2
}