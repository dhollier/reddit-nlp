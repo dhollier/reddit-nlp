{
 "nbformat": 4,
 "nbformat_minor": 2,
 "metadata": {
  "language_info": {
   "name": "python",
   "codemirror_mode": {
    "name": "ipython",
    "version": 3
   },
   "version": "3.7.6-final"
  },
  "orig_nbformat": 2,
  "file_extension": ".py",
  "mimetype": "text/x-python",
  "name": "python",
  "npconvert_exporter": "python",
  "pygments_lexer": "ipython3",
  "version": 3,
  "kernelspec": {
   "name": "python37664bitvenvvenv47b65cf57d4d48c1aee271492c637f7a",
   "display_name": "Python 3.7.6 64-bit ('venv': venv)"
  }
 },
 "cells": [
  {
   "cell_type": "code",
   "execution_count": 2,
   "metadata": {},
   "outputs": [
    {
     "output_type": "stream",
     "name": "stdout",
     "text": "automatic-benji\n"
    }
   ],
   "source": [
    "with open('./func.py') as fd:\n",
    "    exec(fd.read())"
   ]
  },
  {
   "cell_type": "code",
   "execution_count": 3,
   "metadata": {},
   "outputs": [
    {
     "output_type": "stream",
     "name": "stdout",
     "text": "~Getting posts for nba sorted by hot with limit 10\n~Done!!! 10 posts found in nba\n"
    }
   ],
   "source": [
    "postsDF = get_posts('nba','hot',10)"
   ]
  },
  {
   "cell_type": "code",
   "execution_count": 4,
   "metadata": {},
   "outputs": [
    {
     "output_type": "execute_result",
     "data": {
      "text/plain": "       id                                              title  \\\n0  g3h9mj            The Last Dance - Episode Discussion Hub   \n1  g6fm3e  Daily Discussion Thread | Free-Talk and Other ...   \n2  g6rssp  Draymond: \"I remember sorry ass teams always s...   \n3  g6snu7  [SHOTS FIRED] Blake Griffin calls out TMZ: *al...   \n4  g6l0po  As Georgia lifts coronavirus restrictions, Cel...   \n\n          created_utc  score subreddit  \\\n0 2020-04-20 00:00:10    479       nba   \n1 2020-04-23 04:00:21     21       nba   \n2 2020-04-23 18:18:15  10196       nba   \n3 2020-04-23 19:04:11   4470       nba   \n4 2020-04-23 11:31:41  16167       nba   \n\n                                                 url  num_comments  \\\n0  https://www.reddit.com/r/nba/comments/g3h9mj/t...             3   \n1  https://www.reddit.com/r/nba/comments/g6fm3e/d...            44   \n2  https://www.reddit.com/r/nba/comments/g6rssp/d...           578   \n3  https://www.reddit.com/r/nba/comments/g6snu7/s...           217   \n4  https://nba.nbcsports.com/2020/04/22/as-georgi...          1602   \n\n                                            selftext  stickied  spoiler  \\\n0  This thread contains links to all of the episo...      True    False   \n1  Talk about whatever is on your mind, basketbal...      True    False   \n2  [https://youtu.be/2vxvQY1GSTw?t=946](https://y...     False    False   \n3  TMZ's [tweet/article](https://twitter.com/TMZ/...     False    False   \n4                                                        False    False   \n\n   subreddit_subscribers subreddit_type subreddit_id subreddit  \\\n0                3221832         public     t5_2qo4s       nba   \n1                3221832         public     t5_2qo4s       nba   \n2                3221832         public     t5_2qo4s       nba   \n3                3221832         public     t5_2qo4s       nba   \n4                3221832         public     t5_2qo4s       nba   \n\n   total_awards_received    ups  downs  upvote_ratio view_count  quarantine  \\\n0                      0    479      0          0.95       None       False   \n1                      0     21      0          0.79       None       False   \n2                      0  10196      0          0.96       None       False   \n3                      0   4470      0          0.98       None       False   \n4                      0  16167      0          0.94       None       False   \n\n  removal_reason removed_by_category report_reasons  pinned  \\\n0           None                None           None   False   \n1           None                None           None   False   \n2           None                None           None   False   \n3           None                None           None   False   \n4           None                None           None   False   \n\n                                           permalink  over_18 num_reports  \\\n0  /r/nba/comments/g3h9mj/the_last_dance_episode_...    False        None   \n1  /r/nba/comments/g6fm3e/daily_discussion_thread...    False        None   \n2  /r/nba/comments/g6rssp/draymond_i_remember_sor...    False        None   \n3  /r/nba/comments/g6snu7/shots_fired_blake_griff...    False        None   \n4  /r/nba/comments/g6l0po/as_georgia_lifts_corona...    False        None   \n\n   num_duplicates  num_crossposts  num_comments  no_follow media media_embed  \\\n0               0               0             3      False  None          {}   \n1               0               0            44      False  None          {}   \n2               0               0           580      False  None          {}   \n3               0               0           217      False  None          {}   \n4               0               0          1602      False  None          {}   \n\n   media_only  is_video  is_original_content  gilded       edited category  \\\n0       False     False                False       0  1.58736e+09     None   \n1       False     False                False       0        False     None   \n2       False     False                False       0        False     None   \n3       False     False                False       0        False     None   \n4       False     False                False       0        False     None   \n\n  banned_at_utc  archived  \n0           NaT     False  \n1           NaT     False  \n2           NaT     False  \n3           NaT     False  \n4           NaT     False  ",
      "text/html": "<div>\n<style scoped>\n    .dataframe tbody tr th:only-of-type {\n        vertical-align: middle;\n    }\n\n    .dataframe tbody tr th {\n        vertical-align: top;\n    }\n\n    .dataframe thead th {\n        text-align: right;\n    }\n</style>\n<table border=\"1\" class=\"dataframe\">\n  <thead>\n    <tr style=\"text-align: right;\">\n      <th></th>\n      <th>id</th>\n      <th>title</th>\n      <th>created_utc</th>\n      <th>score</th>\n      <th>subreddit</th>\n      <th>url</th>\n      <th>num_comments</th>\n      <th>selftext</th>\n      <th>stickied</th>\n      <th>spoiler</th>\n      <th>subreddit_subscribers</th>\n      <th>subreddit_type</th>\n      <th>subreddit_id</th>\n      <th>subreddit</th>\n      <th>total_awards_received</th>\n      <th>ups</th>\n      <th>downs</th>\n      <th>upvote_ratio</th>\n      <th>view_count</th>\n      <th>quarantine</th>\n      <th>removal_reason</th>\n      <th>removed_by_category</th>\n      <th>report_reasons</th>\n      <th>pinned</th>\n      <th>permalink</th>\n      <th>over_18</th>\n      <th>num_reports</th>\n      <th>num_duplicates</th>\n      <th>num_crossposts</th>\n      <th>num_comments</th>\n      <th>no_follow</th>\n      <th>media</th>\n      <th>media_embed</th>\n      <th>media_only</th>\n      <th>is_video</th>\n      <th>is_original_content</th>\n      <th>gilded</th>\n      <th>edited</th>\n      <th>category</th>\n      <th>banned_at_utc</th>\n      <th>archived</th>\n    </tr>\n  </thead>\n  <tbody>\n    <tr>\n      <th>0</th>\n      <td>g3h9mj</td>\n      <td>The Last Dance - Episode Discussion Hub</td>\n      <td>2020-04-20 00:00:10</td>\n      <td>479</td>\n      <td>nba</td>\n      <td>https://www.reddit.com/r/nba/comments/g3h9mj/t...</td>\n      <td>3</td>\n      <td>This thread contains links to all of the episo...</td>\n      <td>True</td>\n      <td>False</td>\n      <td>3221832</td>\n      <td>public</td>\n      <td>t5_2qo4s</td>\n      <td>nba</td>\n      <td>0</td>\n      <td>479</td>\n      <td>0</td>\n      <td>0.95</td>\n      <td>None</td>\n      <td>False</td>\n      <td>None</td>\n      <td>None</td>\n      <td>None</td>\n      <td>False</td>\n      <td>/r/nba/comments/g3h9mj/the_last_dance_episode_...</td>\n      <td>False</td>\n      <td>None</td>\n      <td>0</td>\n      <td>0</td>\n      <td>3</td>\n      <td>False</td>\n      <td>None</td>\n      <td>{}</td>\n      <td>False</td>\n      <td>False</td>\n      <td>False</td>\n      <td>0</td>\n      <td>1.58736e+09</td>\n      <td>None</td>\n      <td>NaT</td>\n      <td>False</td>\n    </tr>\n    <tr>\n      <th>1</th>\n      <td>g6fm3e</td>\n      <td>Daily Discussion Thread | Free-Talk and Other ...</td>\n      <td>2020-04-23 04:00:21</td>\n      <td>21</td>\n      <td>nba</td>\n      <td>https://www.reddit.com/r/nba/comments/g6fm3e/d...</td>\n      <td>44</td>\n      <td>Talk about whatever is on your mind, basketbal...</td>\n      <td>True</td>\n      <td>False</td>\n      <td>3221832</td>\n      <td>public</td>\n      <td>t5_2qo4s</td>\n      <td>nba</td>\n      <td>0</td>\n      <td>21</td>\n      <td>0</td>\n      <td>0.79</td>\n      <td>None</td>\n      <td>False</td>\n      <td>None</td>\n      <td>None</td>\n      <td>None</td>\n      <td>False</td>\n      <td>/r/nba/comments/g6fm3e/daily_discussion_thread...</td>\n      <td>False</td>\n      <td>None</td>\n      <td>0</td>\n      <td>0</td>\n      <td>44</td>\n      <td>False</td>\n      <td>None</td>\n      <td>{}</td>\n      <td>False</td>\n      <td>False</td>\n      <td>False</td>\n      <td>0</td>\n      <td>False</td>\n      <td>None</td>\n      <td>NaT</td>\n      <td>False</td>\n    </tr>\n    <tr>\n      <th>2</th>\n      <td>g6rssp</td>\n      <td>Draymond: \"I remember sorry ass teams always s...</td>\n      <td>2020-04-23 18:18:15</td>\n      <td>10196</td>\n      <td>nba</td>\n      <td>https://www.reddit.com/r/nba/comments/g6rssp/d...</td>\n      <td>578</td>\n      <td>[https://youtu.be/2vxvQY1GSTw?t=946](https://y...</td>\n      <td>False</td>\n      <td>False</td>\n      <td>3221832</td>\n      <td>public</td>\n      <td>t5_2qo4s</td>\n      <td>nba</td>\n      <td>0</td>\n      <td>10196</td>\n      <td>0</td>\n      <td>0.96</td>\n      <td>None</td>\n      <td>False</td>\n      <td>None</td>\n      <td>None</td>\n      <td>None</td>\n      <td>False</td>\n      <td>/r/nba/comments/g6rssp/draymond_i_remember_sor...</td>\n      <td>False</td>\n      <td>None</td>\n      <td>0</td>\n      <td>0</td>\n      <td>580</td>\n      <td>False</td>\n      <td>None</td>\n      <td>{}</td>\n      <td>False</td>\n      <td>False</td>\n      <td>False</td>\n      <td>0</td>\n      <td>False</td>\n      <td>None</td>\n      <td>NaT</td>\n      <td>False</td>\n    </tr>\n    <tr>\n      <th>3</th>\n      <td>g6snu7</td>\n      <td>[SHOTS FIRED] Blake Griffin calls out TMZ: *al...</td>\n      <td>2020-04-23 19:04:11</td>\n      <td>4470</td>\n      <td>nba</td>\n      <td>https://www.reddit.com/r/nba/comments/g6snu7/s...</td>\n      <td>217</td>\n      <td>TMZ's [tweet/article](https://twitter.com/TMZ/...</td>\n      <td>False</td>\n      <td>False</td>\n      <td>3221832</td>\n      <td>public</td>\n      <td>t5_2qo4s</td>\n      <td>nba</td>\n      <td>0</td>\n      <td>4470</td>\n      <td>0</td>\n      <td>0.98</td>\n      <td>None</td>\n      <td>False</td>\n      <td>None</td>\n      <td>None</td>\n      <td>None</td>\n      <td>False</td>\n      <td>/r/nba/comments/g6snu7/shots_fired_blake_griff...</td>\n      <td>False</td>\n      <td>None</td>\n      <td>0</td>\n      <td>0</td>\n      <td>217</td>\n      <td>False</td>\n      <td>None</td>\n      <td>{}</td>\n      <td>False</td>\n      <td>False</td>\n      <td>False</td>\n      <td>0</td>\n      <td>False</td>\n      <td>None</td>\n      <td>NaT</td>\n      <td>False</td>\n    </tr>\n    <tr>\n      <th>4</th>\n      <td>g6l0po</td>\n      <td>As Georgia lifts coronavirus restrictions, Cel...</td>\n      <td>2020-04-23 11:31:41</td>\n      <td>16167</td>\n      <td>nba</td>\n      <td>https://nba.nbcsports.com/2020/04/22/as-georgi...</td>\n      <td>1602</td>\n      <td></td>\n      <td>False</td>\n      <td>False</td>\n      <td>3221832</td>\n      <td>public</td>\n      <td>t5_2qo4s</td>\n      <td>nba</td>\n      <td>0</td>\n      <td>16167</td>\n      <td>0</td>\n      <td>0.94</td>\n      <td>None</td>\n      <td>False</td>\n      <td>None</td>\n      <td>None</td>\n      <td>None</td>\n      <td>False</td>\n      <td>/r/nba/comments/g6l0po/as_georgia_lifts_corona...</td>\n      <td>False</td>\n      <td>None</td>\n      <td>0</td>\n      <td>0</td>\n      <td>1602</td>\n      <td>False</td>\n      <td>None</td>\n      <td>{}</td>\n      <td>False</td>\n      <td>False</td>\n      <td>False</td>\n      <td>0</td>\n      <td>False</td>\n      <td>None</td>\n      <td>NaT</td>\n      <td>False</td>\n    </tr>\n  </tbody>\n</table>\n</div>"
     },
     "metadata": {},
     "execution_count": 4
    }
   ],
   "source": [
    "postsDF.head()"
   ]
  },
  {
   "cell_type": "code",
   "execution_count": 5,
   "metadata": {},
   "outputs": [
    {
     "output_type": "stream",
     "name": "stdout",
     "text": "~Getting comments for: https://www.redit.com/r/nba/comments/g6rssp/draymond_i_remember_sorry_ass_teams_always_saying/\n~Done!!! 482 comments found\n"
    }
   ],
   "source": [
    "commentsDF = get_comments(postsDF['permalink'][2])"
   ]
  },
  {
   "cell_type": "code",
   "execution_count": 6,
   "metadata": {},
   "outputs": [
    {
     "output_type": "execute_result",
     "data": {
      "text/plain": "             author                                               body  \\\n0           ddottay                  I appreciate him being honest lol   \n1  billcosbyfanpage  Golden State went on an absolute tirade at the...   \n2    wiggins-better  This is a two hour podcast. Thanks Draymond fo...   \n3       jumboponcho  Maybe not for Steph so much, but 90% of those ...   \n4          dofun400                             What he averagin chuck   \n\n          created_utc  depth  downs edited  gilded  is_submitter likes  \\\n0 2020-04-23 18:21:55      0      0  False       0         False  None   \n1 2020-04-23 18:29:06      0      0  False       0         False  None   \n2 2020-04-23 18:19:25      0      0  False       0         False  None   \n3 2020-04-23 19:17:03      0      0  False       0         False  None   \n4 2020-04-23 22:10:06      0      0  False       0         False  None   \n\n     link_id  parent_id       id  locked  controversiality mod_note  \\\n0  t3_g6rssp  t3_g6rssp  foc1ogz   False                 0     None   \n1  t3_g6rssp  t3_g6rssp  foc320b   False                 0     None   \n2  t3_g6rssp  t3_g6rssp  foc16fj   False                 0     None   \n3  t3_g6rssp  t3_g6rssp  focbo9a   False                 0     None   \n4  t3_g6rssp  t3_g6rssp  fod4m56   False                 0     None   \n\n  mod_reason_by mod_reason_title mod_reports  no_follow  \\\n0          None             None          []      False   \n1          None             None          []      False   \n2          None             None          []      False   \n3          None             None          []      False   \n4          None             None          []      False   \n\n                                           permalink removal_reason  \\\n0  /r/nba/comments/g6rssp/draymond_i_remember_sor...           None   \n1  /r/nba/comments/g6rssp/draymond_i_remember_sor...           None   \n2  /r/nba/comments/g6rssp/draymond_i_remember_sor...           None   \n3  /r/nba/comments/g6rssp/draymond_i_remember_sor...           None   \n4  /r/nba/comments/g6rssp/draymond_i_remember_sor...           None   \n\n  report_reasoned  score  stickied  total_awards_received   ups subreddit  \\\n0            None   5306     False                      0  5306       nba   \n1            None   1998     False                      0  1998       nba   \n2            None    717     False                      0   717       nba   \n3            None   1316     False                      0  1316       nba   \n4            None    158     False                      0   158       nba   \n\n  subreddit_id submission_id  \n0     t5_2qo4s        g6rssp  \n1     t5_2qo4s        g6rssp  \n2     t5_2qo4s        g6rssp  \n3     t5_2qo4s        g6rssp  \n4     t5_2qo4s        g6rssp  ",
      "text/html": "<div>\n<style scoped>\n    .dataframe tbody tr th:only-of-type {\n        vertical-align: middle;\n    }\n\n    .dataframe tbody tr th {\n        vertical-align: top;\n    }\n\n    .dataframe thead th {\n        text-align: right;\n    }\n</style>\n<table border=\"1\" class=\"dataframe\">\n  <thead>\n    <tr style=\"text-align: right;\">\n      <th></th>\n      <th>author</th>\n      <th>body</th>\n      <th>created_utc</th>\n      <th>depth</th>\n      <th>downs</th>\n      <th>edited</th>\n      <th>gilded</th>\n      <th>is_submitter</th>\n      <th>likes</th>\n      <th>link_id</th>\n      <th>parent_id</th>\n      <th>id</th>\n      <th>locked</th>\n      <th>controversiality</th>\n      <th>mod_note</th>\n      <th>mod_reason_by</th>\n      <th>mod_reason_title</th>\n      <th>mod_reports</th>\n      <th>no_follow</th>\n      <th>permalink</th>\n      <th>removal_reason</th>\n      <th>report_reasoned</th>\n      <th>score</th>\n      <th>stickied</th>\n      <th>total_awards_received</th>\n      <th>ups</th>\n      <th>subreddit</th>\n      <th>subreddit_id</th>\n      <th>submission_id</th>\n    </tr>\n  </thead>\n  <tbody>\n    <tr>\n      <th>0</th>\n      <td>ddottay</td>\n      <td>I appreciate him being honest lol</td>\n      <td>2020-04-23 18:21:55</td>\n      <td>0</td>\n      <td>0</td>\n      <td>False</td>\n      <td>0</td>\n      <td>False</td>\n      <td>None</td>\n      <td>t3_g6rssp</td>\n      <td>t3_g6rssp</td>\n      <td>foc1ogz</td>\n      <td>False</td>\n      <td>0</td>\n      <td>None</td>\n      <td>None</td>\n      <td>None</td>\n      <td>[]</td>\n      <td>False</td>\n      <td>/r/nba/comments/g6rssp/draymond_i_remember_sor...</td>\n      <td>None</td>\n      <td>None</td>\n      <td>5306</td>\n      <td>False</td>\n      <td>0</td>\n      <td>5306</td>\n      <td>nba</td>\n      <td>t5_2qo4s</td>\n      <td>g6rssp</td>\n    </tr>\n    <tr>\n      <th>1</th>\n      <td>billcosbyfanpage</td>\n      <td>Golden State went on an absolute tirade at the...</td>\n      <td>2020-04-23 18:29:06</td>\n      <td>0</td>\n      <td>0</td>\n      <td>False</td>\n      <td>0</td>\n      <td>False</td>\n      <td>None</td>\n      <td>t3_g6rssp</td>\n      <td>t3_g6rssp</td>\n      <td>foc320b</td>\n      <td>False</td>\n      <td>0</td>\n      <td>None</td>\n      <td>None</td>\n      <td>None</td>\n      <td>[]</td>\n      <td>False</td>\n      <td>/r/nba/comments/g6rssp/draymond_i_remember_sor...</td>\n      <td>None</td>\n      <td>None</td>\n      <td>1998</td>\n      <td>False</td>\n      <td>0</td>\n      <td>1998</td>\n      <td>nba</td>\n      <td>t5_2qo4s</td>\n      <td>g6rssp</td>\n    </tr>\n    <tr>\n      <th>2</th>\n      <td>wiggins-better</td>\n      <td>This is a two hour podcast. Thanks Draymond fo...</td>\n      <td>2020-04-23 18:19:25</td>\n      <td>0</td>\n      <td>0</td>\n      <td>False</td>\n      <td>0</td>\n      <td>False</td>\n      <td>None</td>\n      <td>t3_g6rssp</td>\n      <td>t3_g6rssp</td>\n      <td>foc16fj</td>\n      <td>False</td>\n      <td>0</td>\n      <td>None</td>\n      <td>None</td>\n      <td>None</td>\n      <td>[]</td>\n      <td>False</td>\n      <td>/r/nba/comments/g6rssp/draymond_i_remember_sor...</td>\n      <td>None</td>\n      <td>None</td>\n      <td>717</td>\n      <td>False</td>\n      <td>0</td>\n      <td>717</td>\n      <td>nba</td>\n      <td>t5_2qo4s</td>\n      <td>g6rssp</td>\n    </tr>\n    <tr>\n      <th>3</th>\n      <td>jumboponcho</td>\n      <td>Maybe not for Steph so much, but 90% of those ...</td>\n      <td>2020-04-23 19:17:03</td>\n      <td>0</td>\n      <td>0</td>\n      <td>False</td>\n      <td>0</td>\n      <td>False</td>\n      <td>None</td>\n      <td>t3_g6rssp</td>\n      <td>t3_g6rssp</td>\n      <td>focbo9a</td>\n      <td>False</td>\n      <td>0</td>\n      <td>None</td>\n      <td>None</td>\n      <td>None</td>\n      <td>[]</td>\n      <td>False</td>\n      <td>/r/nba/comments/g6rssp/draymond_i_remember_sor...</td>\n      <td>None</td>\n      <td>None</td>\n      <td>1316</td>\n      <td>False</td>\n      <td>0</td>\n      <td>1316</td>\n      <td>nba</td>\n      <td>t5_2qo4s</td>\n      <td>g6rssp</td>\n    </tr>\n    <tr>\n      <th>4</th>\n      <td>dofun400</td>\n      <td>What he averagin chuck</td>\n      <td>2020-04-23 22:10:06</td>\n      <td>0</td>\n      <td>0</td>\n      <td>False</td>\n      <td>0</td>\n      <td>False</td>\n      <td>None</td>\n      <td>t3_g6rssp</td>\n      <td>t3_g6rssp</td>\n      <td>fod4m56</td>\n      <td>False</td>\n      <td>0</td>\n      <td>None</td>\n      <td>None</td>\n      <td>None</td>\n      <td>[]</td>\n      <td>False</td>\n      <td>/r/nba/comments/g6rssp/draymond_i_remember_sor...</td>\n      <td>None</td>\n      <td>None</td>\n      <td>158</td>\n      <td>False</td>\n      <td>0</td>\n      <td>158</td>\n      <td>nba</td>\n      <td>t5_2qo4s</td>\n      <td>g6rssp</td>\n    </tr>\n  </tbody>\n</table>\n</div>"
     },
     "metadata": {},
     "execution_count": 6
    }
   ],
   "source": [
    "commentsDF.head()"
   ]
  },
  {
   "cell_type": "code",
   "execution_count": 7,
   "metadata": {},
   "outputs": [
    {
     "output_type": "stream",
     "name": "stdout",
     "text": "The Last Dance - Episode Discussion Hub\n"
    }
   ],
   "source": [
    "text=postsDF['title'][0]\n",
    "print(text)"
   ]
  },
  {
   "cell_type": "code",
   "execution_count": 8,
   "metadata": {},
   "outputs": [
    {
     "output_type": "error",
     "ename": "ModuleNotFoundError",
     "evalue": "No module named 'spacy.lang.eng'",
     "traceback": [
      "\u001b[0;31m---------------------------------------------------------------------------\u001b[0m",
      "\u001b[0;31mModuleNotFoundError\u001b[0m                       Traceback (most recent call last)",
      "\u001b[0;32m<ipython-input-8-49eb8e3f6c01>\u001b[0m in \u001b[0;36m<module>\u001b[0;34m\u001b[0m\n\u001b[0;32m----> 1\u001b[0;31m \u001b[0;32mfrom\u001b[0m \u001b[0mspacy\u001b[0m\u001b[0;34m.\u001b[0m\u001b[0mlang\u001b[0m\u001b[0;34m.\u001b[0m\u001b[0meng\u001b[0m \u001b[0;32mimport\u001b[0m \u001b[0mEnglish\u001b[0m\u001b[0;34m\u001b[0m\u001b[0;34m\u001b[0m\u001b[0m\n\u001b[0m\u001b[1;32m      2\u001b[0m \u001b[0;34m\u001b[0m\u001b[0m\n\u001b[1;32m      3\u001b[0m \u001b[0mnlp\u001b[0m \u001b[0;34m=\u001b[0m \u001b[0mEnglish\u001b[0m\u001b[0;34m(\u001b[0m\u001b[0;34m)\u001b[0m\u001b[0;34m\u001b[0m\u001b[0;34m\u001b[0m\u001b[0m\n\u001b[1;32m      4\u001b[0m \u001b[0;34m\u001b[0m\u001b[0m\n\u001b[1;32m      5\u001b[0m \u001b[0mmydoc\u001b[0m \u001b[0;34m=\u001b[0m \u001b[0mnlp\u001b[0m\u001b[0;34m(\u001b[0m\u001b[0mtext\u001b[0m\u001b[0;34m)\u001b[0m\u001b[0;34m\u001b[0m\u001b[0;34m\u001b[0m\u001b[0m\n",
      "\u001b[0;31mModuleNotFoundError\u001b[0m: No module named 'spacy.lang.eng'"
     ]
    }
   ],
   "source": [
    "from spacy.lang.eng import English\n",
    "\n",
    "nlp = English()\n",
    "\n",
    "mydoc = nlp(text)\n",
    "\n",
    "token_list = []\n",
    "\n",
    "for token in mydoc:\n",
    "    token_list.append(token.text)\n",
    "print(token.list)\n",
    "\n",
    "\n",
    ""
   ]
  },
  {
   "cell_type": "code",
   "execution_count": null,
   "metadata": {},
   "outputs": [],
   "source": [
    "a = clean_text(postsDF['title'][0])\n",
    "\n",
    "print(a)"
   ]
  },
  {
   "cell_type": "code",
   "execution_count": 6,
   "metadata": {},
   "outputs": [],
   "source": [
    "# class MyDataset():\n",
    "\n",
    "\n",
    "#     def __init__(self):\n",
    "#         #read data\n",
    "\n",
    "#         #tokenize data\n",
    "         \n",
    "#         #convert tokens to indices\n",
    "#         print('stuff')\n",
    "\n",
    "#     def __getitem__(self,i):\n",
    "#         return self.sequences[i], self.targets[i]\n",
    "\n",
    "#     def __len__(self):\n",
    "#         return len(self.sequences)"
   ]
  },
  {
   "cell_type": "code",
   "execution_count": null,
   "metadata": {},
   "outputs": [],
   "source": []
  }
 ]
}